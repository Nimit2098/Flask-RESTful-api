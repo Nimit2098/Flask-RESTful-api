{
 "cells": [
  {
   "cell_type": "markdown",
   "metadata": {},
   "source": [
    "## Testing Api"
   ]
  },
  {
   "cell_type": "markdown",
   "metadata": {},
   "source": [
    "We are using an app file which has the code for making connections to the local database and also the code for all the other features like pushing data, deleting the data, updating the data to the sqlite database. We have a data in json format which we can push to the sqlite database. We can get the list which contains all the id's of the data in the database. We can also get the count of the data in the database."
   ]
  },
  {
   "cell_type": "markdown",
   "metadata": {},
   "source": [
    "### Column Description\n",
    "DANCEABILITY : Danceability is measured using a mixture of song features such as beat strength, tempo stability, and overall tempo. The value returned determines the ease with which a person could dance to a song over the course of the whole song.\n",
    "\n",
    "ENERGY: Energy is the sense of forward motion in music, whatever keeps the listener engaged and listening.\n",
    "\n",
    "KEY: The key the track is in. Integers map to pitches using standard Pitch Class notation.\n",
    "\n",
    "LOUDNESS: The overall loudness of a track in decibels (dB).\n",
    "\n",
    "MODE: Mode indicates the modality (major or minor) of a track\n",
    "\n",
    "SPEECHINESS: Speechiness detects the presence of spoken words in a track.\n",
    "\n",
    "ACOUSTICNESS: A confidence measure from 0.0 to 1.0 of whether the track is acoustic.\n",
    "\n",
    "INSTRUMENTALNESS: Predicts whether a track contains no vocals.\n",
    "\n",
    "LIVENESS: Detects the presence of an audience in the recording.\n",
    "\n",
    "VALENCE: A measure from 0.0 to 1.0 describing the musical positiveness conveyed by a track.\n",
    "\n",
    "TEMPO: The overall estimated tempo of a track in beats per minute (BPM).\n",
    "\n",
    "DURATION_MS: The duration of the track in milliseconds.\n",
    "\n",
    "TIME_SIGNATURE: An estimated overall time signature of a track"
   ]
  },
  {
   "cell_type": "code",
   "execution_count": 28,
   "metadata": {},
   "outputs": [],
   "source": [
    "#importiong the libraries.\n",
    "import requests\n",
    "import json\n",
    "\n",
    "#Initializing the base server\n",
    "Base = \"http://127.0.0.1:5000/\"\n",
    "\n",
    "#Initializing the data type to push to the database.\n",
    "header = {\n",
    "    'content-type': \"application/json\",\n",
    "    'cache-control': \"no-cache\",\n",
    "}\n"
   ]
  },
  {
   "cell_type": "code",
   "execution_count": 29,
   "metadata": {},
   "outputs": [],
   "source": [
    "#opening the Json file\n",
    "f = open('dislike.json')\n",
    "dataset = json.load(f) #Saving the Json data into the variable.\n",
    "#closing the Json file\n",
    "f.close()"
   ]
  },
  {
   "cell_type": "markdown",
   "metadata": {},
   "source": [
    "##### Deleting entire data from the database"
   ]
  },
  {
   "cell_type": "code",
   "execution_count": 30,
   "metadata": {},
   "outputs": [
    {
     "name": "stdout",
     "output_type": "stream",
     "text": [
      "All entries of Song deleted from the database.\n"
     ]
    }
   ],
   "source": [
    "#Deleting entire database.\n",
    "response_delete_all = requests.delete(url = Base + \"song_db/\")\n",
    "print(response_delete_all.json())"
   ]
  },
  {
   "cell_type": "markdown",
   "metadata": {},
   "source": [
    "##### Pushing data to the database"
   ]
  },
  {
   "cell_type": "code",
   "execution_count": 31,
   "metadata": {},
   "outputs": [
    {
     "name": "stdout",
     "output_type": "stream",
     "text": [
      "{'id_key': 0, 'danceability': 0.357, 'energy': 0.98, 'key': 6, 'loudness': -6.835, 'mode': 1, 'speechiness': 0.079, 'acousticness': 5.22e-05, 'instrumentalness': 0.843, 'liveness': 0.0768, 'valence': 0.368, 'tempo': 96.969, 'type': 'audio_features', 'id': '4pFC6tuWErxbO61oFFq3BQ', 'uri': 'spotify:track:4pFC6tuWErxbO61oFFq3BQ', 'track_href': 'https://api.spotify.com/v1/tracks/4pFC6tuWErxbO61oFFq3BQ', 'analysis_url': 'https://api.spotify.com/v1/audio-analysis/4pFC6tuWErxbO61oFFq3BQ', 'duration_ms': 242760, 'time_signature': 4}\n"
     ]
    }
   ],
   "source": [
    "#pushing the data to the database.\n",
    "data_try = {'danceability': 0.357,\n",
    "  'energy': 0.98,\n",
    "  'key': 6,\n",
    "  'loudness': -6.835,\n",
    "  'mode': 1,\n",
    "  'speechiness': 0.079,\n",
    "  'acousticness': 5.22e-05,\n",
    "  'instrumentalness': 0.843,\n",
    "  'liveness': 0.0768,\n",
    "  'valence': 0.368,\n",
    "  'tempo': 96.969,\n",
    "  'type': 'audio_features',\n",
    "  'id': '4pFC6tuWErxbO61oFFq3BQ',\n",
    "  'uri': 'spotify:track:4pFC6tuWErxbO61oFFq3BQ',\n",
    "  'track_href': 'https://api.spotify.com/v1/tracks/4pFC6tuWErxbO61oFFq3BQ',\n",
    "  'analysis_url': 'https://api.spotify.com/v1/audio-analysis/4pFC6tuWErxbO61oFFq3BQ',\n",
    "  'duration_ms': 242760,\n",
    "  'time_signature': 4}\n",
    "\n",
    "response = requests.put(url = Base + \"song/\" + '0',headers=header, data = json.dumps(data_try))\n",
    "print(response.json())"
   ]
  },
  {
   "cell_type": "markdown",
   "metadata": {},
   "source": [
    "##### Getting data from the database"
   ]
  },
  {
   "cell_type": "code",
   "execution_count": 32,
   "metadata": {},
   "outputs": [
    {
     "name": "stdout",
     "output_type": "stream",
     "text": [
      "{'id_key': 0, 'danceability': 0.357, 'energy': 0.98, 'key': 6, 'loudness': -6.835, 'mode': 1, 'speechiness': 0.079, 'acousticness': 5.22e-05, 'instrumentalness': 0.843, 'liveness': 0.0768, 'valence': 0.368, 'tempo': 96.969, 'type': 'audio_features', 'id': '4pFC6tuWErxbO61oFFq3BQ', 'uri': 'spotify:track:4pFC6tuWErxbO61oFFq3BQ', 'track_href': 'https://api.spotify.com/v1/tracks/4pFC6tuWErxbO61oFFq3BQ', 'analysis_url': 'https://api.spotify.com/v1/audio-analysis/4pFC6tuWErxbO61oFFq3BQ', 'duration_ms': 242760, 'time_signature': 4}\n"
     ]
    }
   ],
   "source": [
    "#Retrieving a song with id from the database.\n",
    "response3 = requests.get(url = Base + \"song/\" + '0')\n",
    "print(response3.json())"
   ]
  },
  {
   "cell_type": "markdown",
   "metadata": {},
   "source": [
    "##### Deleting entire data from the database"
   ]
  },
  {
   "cell_type": "code",
   "execution_count": 33,
   "metadata": {},
   "outputs": [
    {
     "name": "stdout",
     "output_type": "stream",
     "text": [
      "All entries of Song deleted from the database.\n"
     ]
    }
   ],
   "source": [
    "#Deleting entire database.\n",
    "response_delete_all = requests.delete(url = Base + \"song_db/\")\n",
    "print(response_delete_all.json())"
   ]
  },
  {
   "cell_type": "markdown",
   "metadata": {},
   "source": [
    "##### Getting data by id from the database (Error message)"
   ]
  },
  {
   "cell_type": "code",
   "execution_count": 34,
   "metadata": {},
   "outputs": [
    {
     "name": "stdout",
     "output_type": "stream",
     "text": [
      "{'message': 'Could not find song with that id'}\n"
     ]
    }
   ],
   "source": [
    "#Retrieving a song with id that is not present in the database.\n",
    "response3 = requests.get(url = Base + \"song/\" + '1')\n",
    "print(response3.json())"
   ]
  },
  {
   "cell_type": "markdown",
   "metadata": {},
   "source": [
    "##### Deleting the entire data from the database (Error message)"
   ]
  },
  {
   "cell_type": "code",
   "execution_count": 35,
   "metadata": {},
   "outputs": [
    {
     "name": "stdout",
     "output_type": "stream",
     "text": [
      "Database is already empty.\n"
     ]
    }
   ],
   "source": [
    "#Deleting entire database when it is empty.\n",
    "response_delete_all = requests.delete(url = Base + \"song_db/\")\n",
    "print(response_delete_all.json())"
   ]
  },
  {
   "cell_type": "markdown",
   "metadata": {},
   "source": [
    "##### Deleting data by Id from the database (Error message)"
   ]
  },
  {
   "cell_type": "code",
   "execution_count": 36,
   "metadata": {},
   "outputs": [
    {
     "name": "stdout",
     "output_type": "stream",
     "text": [
      "Song not present in the database\n"
     ]
    }
   ],
   "source": [
    "#deleting the song from the databse by passing specific id of the song that is not present.\n",
    "response_delete = requests.delete(url = Base + \"song/\" + '1')\n",
    "print(response_delete.json())"
   ]
  },
  {
   "cell_type": "markdown",
   "metadata": {},
   "source": [
    "##### Getting data from the database (Error message)"
   ]
  },
  {
   "cell_type": "code",
   "execution_count": 37,
   "metadata": {},
   "outputs": [
    {
     "name": "stdout",
     "output_type": "stream",
     "text": [
      "Database is empty.\n"
     ]
    }
   ],
   "source": [
    "#Retrieving the full data from the database when it is empty.\n",
    "response_new = requests.get(url = Base + \"song_db/\")\n",
    "try:\n",
    "    print(response_new.json()['message'])\n",
    "except:\n",
    "    for i in response_new.json():\n",
    "        print(i)"
   ]
  },
  {
   "cell_type": "markdown",
   "metadata": {},
   "source": [
    "##### Uploading multiple data to the sqlite database."
   ]
  },
  {
   "cell_type": "code",
   "execution_count": 38,
   "metadata": {},
   "outputs": [
    {
     "name": "stdout",
     "output_type": "stream",
     "text": [
      "{'id_key': 0, 'danceability': 0.357, 'energy': 0.98, 'key': 6, 'loudness': -6.835, 'mode': 1, 'speechiness': 0.079, 'acousticness': 5.22e-05, 'instrumentalness': 0.843, 'liveness': 0.0768, 'valence': 0.368, 'tempo': 96.969, 'type': 'audio_features', 'id': '4pFC6tuWErxbO61oFFq3BQ', 'uri': 'spotify:track:4pFC6tuWErxbO61oFFq3BQ', 'track_href': 'https://api.spotify.com/v1/tracks/4pFC6tuWErxbO61oFFq3BQ', 'analysis_url': 'https://api.spotify.com/v1/audio-analysis/4pFC6tuWErxbO61oFFq3BQ', 'duration_ms': 242760, 'time_signature': 4}\n",
      "{'id_key': 1, 'danceability': 0.446, 'energy': 0.977, 'key': 10, 'loudness': -5.036, 'mode': 0, 'speechiness': 0.0781, 'acousticness': 0.000535, 'instrumentalness': 0.472, 'liveness': 0.105, 'valence': 0.339, 'tempo': 172.059, 'type': 'audio_features', 'id': '6V3SNkvi4BnfmZU0j7s9TQ', 'uri': 'spotify:track:6V3SNkvi4BnfmZU0j7s9TQ', 'track_href': 'https://api.spotify.com/v1/tracks/6V3SNkvi4BnfmZU0j7s9TQ', 'analysis_url': 'https://api.spotify.com/v1/audio-analysis/6V3SNkvi4BnfmZU0j7s9TQ', 'duration_ms': 284400, 'time_signature': 4}\n",
      "{'id_key': 2, 'danceability': 0.291, 'energy': 0.98, 'key': 1, 'loudness': -5.138, 'mode': 1, 'speechiness': 0.153, 'acousticness': 0.00127, 'instrumentalness': 0.091, 'liveness': 0.102, 'valence': 0.257, 'tempo': 79.792, 'type': 'audio_features', 'id': '1Ds58cpyJzL0YTKk02vh1C', 'uri': 'spotify:track:1Ds58cpyJzL0YTKk02vh1C', 'track_href': 'https://api.spotify.com/v1/tracks/1Ds58cpyJzL0YTKk02vh1C', 'analysis_url': 'https://api.spotify.com/v1/audio-analysis/1Ds58cpyJzL0YTKk02vh1C', 'duration_ms': 270920, 'time_signature': 4}\n",
      "{'id_key': 3, 'danceability': 0.462, 'energy': 0.974, 'key': 1, 'loudness': -5.82, 'mode': 1, 'speechiness': 0.0816, 'acousticness': 2.94e-05, 'instrumentalness': 0.723, 'liveness': 0.0751, 'valence': 0.399, 'tempo': 107.877, 'type': 'audio_features', 'id': '77QKNMGwlnzxsTZPYfByMu', 'uri': 'spotify:track:77QKNMGwlnzxsTZPYfByMu', 'track_href': 'https://api.spotify.com/v1/tracks/77QKNMGwlnzxsTZPYfByMu', 'analysis_url': 'https://api.spotify.com/v1/audio-analysis/77QKNMGwlnzxsTZPYfByMu', 'duration_ms': 186576, 'time_signature': 3}\n",
      "{'id_key': 4, 'danceability': 0.338, 'energy': 0.988, 'key': 8, 'loudness': -7.29, 'mode': 0, 'speechiness': 0.0865, 'acousticness': 8.35e-05, 'instrumentalness': 0.833, 'liveness': 0.0377, 'valence': 0.449, 'tempo': 99.046, 'type': 'audio_features', 'id': '3bQoMbPYOvvseHaSOWAQ3Q', 'uri': 'spotify:track:3bQoMbPYOvvseHaSOWAQ3Q', 'track_href': 'https://api.spotify.com/v1/tracks/3bQoMbPYOvvseHaSOWAQ3Q', 'analysis_url': 'https://api.spotify.com/v1/audio-analysis/3bQoMbPYOvvseHaSOWAQ3Q', 'duration_ms': 221960, 'time_signature': 4}\n",
      "{'id_key': 5, 'danceability': 0.256, 'energy': 0.952, 'key': 7, 'loudness': -8.631, 'mode': 0, 'speechiness': 0.103, 'acousticness': 2.19e-05, 'instrumentalness': 0.587, 'liveness': 0.135, 'valence': 0.0724, 'tempo': 144.481, 'type': 'audio_features', 'id': '1sWcWDgthOikmqaHdfTfW2', 'uri': 'spotify:track:1sWcWDgthOikmqaHdfTfW2', 'track_href': 'https://api.spotify.com/v1/tracks/1sWcWDgthOikmqaHdfTfW2', 'analysis_url': 'https://api.spotify.com/v1/audio-analysis/1sWcWDgthOikmqaHdfTfW2', 'duration_ms': 206120, 'time_signature': 4}\n",
      "{'id_key': 6, 'danceability': 0.373, 'energy': 0.98, 'key': 1, 'loudness': -5.016, 'mode': 0, 'speechiness': 0.122, 'acousticness': 0.000319, 'instrumentalness': 0.906, 'liveness': 0.105, 'valence': 0.34, 'tempo': 97.346, 'type': 'audio_features', 'id': '10nOWGyxyXW42t9NH6BNSS', 'uri': 'spotify:track:10nOWGyxyXW42t9NH6BNSS', 'track_href': 'https://api.spotify.com/v1/tracks/10nOWGyxyXW42t9NH6BNSS', 'analysis_url': 'https://api.spotify.com/v1/audio-analysis/10nOWGyxyXW42t9NH6BNSS', 'duration_ms': 211947, 'time_signature': 4}\n",
      "{'id_key': 7, 'danceability': 0.13, 'energy': 0.947, 'key': 8, 'loudness': -5.888, 'mode': 1, 'speechiness': 0.095, 'acousticness': 2.45e-05, 'instrumentalness': 0.368, 'liveness': 0.0453, 'valence': 0.334, 'tempo': 60.631, 'type': 'audio_features', 'id': '5WGvXmLt6acluR7TfhlHUH', 'uri': 'spotify:track:5WGvXmLt6acluR7TfhlHUH', 'track_href': 'https://api.spotify.com/v1/tracks/5WGvXmLt6acluR7TfhlHUH', 'analysis_url': 'https://api.spotify.com/v1/audio-analysis/5WGvXmLt6acluR7TfhlHUH', 'duration_ms': 272995, 'time_signature': 4}\n",
      "{'id_key': 8, 'danceability': 0.225, 'energy': 0.98, 'key': 6, 'loudness': -5.626, 'mode': 1, 'speechiness': 0.143, 'acousticness': 5.84e-06, 'instrumentalness': 0.86, 'liveness': 0.0653, 'valence': 0.105, 'tempo': 115.077, 'type': 'audio_features', 'id': '4YWg4PxJzMn84j7Fo32W4M', 'uri': 'spotify:track:4YWg4PxJzMn84j7Fo32W4M', 'track_href': 'https://api.spotify.com/v1/tracks/4YWg4PxJzMn84j7Fo32W4M', 'analysis_url': 'https://api.spotify.com/v1/audio-analysis/4YWg4PxJzMn84j7Fo32W4M', 'duration_ms': 285907, 'time_signature': 4}\n",
      "{'id_key': 9, 'danceability': 0.571, 'energy': 0.996, 'key': 10, 'loudness': -4.907, 'mode': 0, 'speechiness': 0.215, 'acousticness': 4.93e-05, 'instrumentalness': 0.601, 'liveness': 0.187, 'valence': 0.0468, 'tempo': 94.992, 'type': 'audio_features', 'id': '6m5EVmAlKhJwbQCT3xN5Kt', 'uri': 'spotify:track:6m5EVmAlKhJwbQCT3xN5Kt', 'track_href': 'https://api.spotify.com/v1/tracks/6m5EVmAlKhJwbQCT3xN5Kt', 'analysis_url': 'https://api.spotify.com/v1/audio-analysis/6m5EVmAlKhJwbQCT3xN5Kt', 'duration_ms': 211693, 'time_signature': 4}\n",
      "{'id_key': 10, 'danceability': 0.448, 'energy': 0.97, 'key': 1, 'loudness': -4.197, 'mode': 1, 'speechiness': 0.105, 'acousticness': 0.000428, 'instrumentalness': 0.912, 'liveness': 0.376, 'valence': 0.381, 'tempo': 119.215, 'type': 'audio_features', 'id': '6GjNQbnAPCFCxp45txPVfh', 'uri': 'spotify:track:6GjNQbnAPCFCxp45txPVfh', 'track_href': 'https://api.spotify.com/v1/tracks/6GjNQbnAPCFCxp45txPVfh', 'analysis_url': 'https://api.spotify.com/v1/audio-analysis/6GjNQbnAPCFCxp45txPVfh', 'duration_ms': 123880, 'time_signature': 4}\n",
      "{'id_key': 11, 'danceability': 0.363, 'energy': 0.994, 'key': 8, 'loudness': -5.781, 'mode': 1, 'speechiness': 0.131, 'acousticness': 3.69e-05, 'instrumentalness': 0.582, 'liveness': 0.207, 'valence': 0.139, 'tempo': 108.017, 'type': 'audio_features', 'id': '7tLevkJnFLOMtOOUmhznQa', 'uri': 'spotify:track:7tLevkJnFLOMtOOUmhznQa', 'track_href': 'https://api.spotify.com/v1/tracks/7tLevkJnFLOMtOOUmhznQa', 'analysis_url': 'https://api.spotify.com/v1/audio-analysis/7tLevkJnFLOMtOOUmhznQa', 'duration_ms': 247564, 'time_signature': 4}\n",
      "{'id_key': 12, 'danceability': 0.251, 'energy': 0.981, 'key': 10, 'loudness': -7.282, 'mode': 0, 'speechiness': 0.118, 'acousticness': 6.27e-05, 'instrumentalness': 0.729, 'liveness': 0.219, 'valence': 0.275, 'tempo': 99.338, 'type': 'audio_features', 'id': '6gP7mrmL9EsFS3sMpk3Ig3', 'uri': 'spotify:track:6gP7mrmL9EsFS3sMpk3Ig3', 'track_href': 'https://api.spotify.com/v1/tracks/6gP7mrmL9EsFS3sMpk3Ig3', 'analysis_url': 'https://api.spotify.com/v1/audio-analysis/6gP7mrmL9EsFS3sMpk3Ig3', 'duration_ms': 375307, 'time_signature': 4}\n",
      "{'id_key': 13, 'danceability': 0.297, 'energy': 0.993, 'key': 9, 'loudness': -7.173, 'mode': 1, 'speechiness': 0.118, 'acousticness': 5.66e-05, 'instrumentalness': 0.77, 'liveness': 0.0766, 'valence': 0.178, 'tempo': 127.693, 'type': 'audio_features', 'id': '1SEE3lvWDlSYVEySrrAfMs', 'uri': 'spotify:track:1SEE3lvWDlSYVEySrrAfMs', 'track_href': 'https://api.spotify.com/v1/tracks/1SEE3lvWDlSYVEySrrAfMs', 'analysis_url': 'https://api.spotify.com/v1/audio-analysis/1SEE3lvWDlSYVEySrrAfMs', 'duration_ms': 182427, 'time_signature': 4}\n",
      "{'id_key': 14, 'danceability': 0.297, 'energy': 0.973, 'key': 1, 'loudness': -4.505, 'mode': 1, 'speechiness': 0.151, 'acousticness': 0.00146, 'instrumentalness': 0.918, 'liveness': 0.139, 'valence': 0.234, 'tempo': 102.757, 'type': 'audio_features', 'id': '1zXTJp4mMwu2y69LajfzFK', 'uri': 'spotify:track:1zXTJp4mMwu2y69LajfzFK', 'track_href': 'https://api.spotify.com/v1/tracks/1zXTJp4mMwu2y69LajfzFK', 'analysis_url': 'https://api.spotify.com/v1/audio-analysis/1zXTJp4mMwu2y69LajfzFK', 'duration_ms': 170520, 'time_signature': 4}\n",
      "{'id_key': 15, 'danceability': 0.184, 'energy': 0.974, 'key': 8, 'loudness': -6.237, 'mode': 0, 'speechiness': 0.106, 'acousticness': 2.32e-05, 'instrumentalness': 0.886, 'liveness': 0.241, 'valence': 0.33, 'tempo': 93.771, 'type': 'audio_features', 'id': '107S1KOprUaRQqfI9nugxv', 'uri': 'spotify:track:107S1KOprUaRQqfI9nugxv', 'track_href': 'https://api.spotify.com/v1/tracks/107S1KOprUaRQqfI9nugxv', 'analysis_url': 'https://api.spotify.com/v1/audio-analysis/107S1KOprUaRQqfI9nugxv', 'duration_ms': 257390, 'time_signature': 3}\n",
      "{'id_key': 16, 'danceability': 0.358, 'energy': 0.977, 'key': 8, 'loudness': -8.179, 'mode': 0, 'speechiness': 0.0727, 'acousticness': 8.18e-05, 'instrumentalness': 0.924, 'liveness': 0.103, 'valence': 0.449, 'tempo': 137.681, 'type': 'audio_features', 'id': '42es8ZJzFiOvjLR1yv0Sn7', 'uri': 'spotify:track:42es8ZJzFiOvjLR1yv0Sn7', 'track_href': 'https://api.spotify.com/v1/tracks/42es8ZJzFiOvjLR1yv0Sn7', 'analysis_url': 'https://api.spotify.com/v1/audio-analysis/42es8ZJzFiOvjLR1yv0Sn7', 'duration_ms': 194160, 'time_signature': 4}\n",
      "{'id_key': 17, 'danceability': 0.266, 'energy': 0.986, 'key': 8, 'loudness': -8.346, 'mode': 0, 'speechiness': 0.166, 'acousticness': 0.000386, 'instrumentalness': 0.747, 'liveness': 0.43, 'valence': 0.302, 'tempo': 86.179, 'type': 'audio_features', 'id': '5ycOd8aYjGCIrDfLNKqmKW', 'uri': 'spotify:track:5ycOd8aYjGCIrDfLNKqmKW', 'track_href': 'https://api.spotify.com/v1/tracks/5ycOd8aYjGCIrDfLNKqmKW', 'analysis_url': 'https://api.spotify.com/v1/audio-analysis/5ycOd8aYjGCIrDfLNKqmKW', 'duration_ms': 245773, 'time_signature': 4}\n",
      "{'id_key': 18, 'danceability': 0.29, 'energy': 0.934, 'key': 10, 'loudness': -4.679, 'mode': 0, 'speechiness': 0.0962, 'acousticness': 0.000325, 'instrumentalness': 0.853, 'liveness': 0.453, 'valence': 0.18, 'tempo': 112.834, 'type': 'audio_features', 'id': '3SP4UoCeEfG8OUevkxbPlX', 'uri': 'spotify:track:3SP4UoCeEfG8OUevkxbPlX', 'track_href': 'https://api.spotify.com/v1/tracks/3SP4UoCeEfG8OUevkxbPlX', 'analysis_url': 'https://api.spotify.com/v1/audio-analysis/3SP4UoCeEfG8OUevkxbPlX', 'duration_ms': 225867, 'time_signature': 3}\n",
      "{'id_key': 19, 'danceability': 0.138, 'energy': 0.991, 'key': 8, 'loudness': -5.661, 'mode': 1, 'speechiness': 0.175, 'acousticness': 1.53e-05, 'instrumentalness': 0.831, 'liveness': 0.337, 'valence': 0.0718, 'tempo': 94.443, 'type': 'audio_features', 'id': '0HPmWGyYJ0xP1DYUWk8Fwm', 'uri': 'spotify:track:0HPmWGyYJ0xP1DYUWk8Fwm', 'track_href': 'https://api.spotify.com/v1/tracks/0HPmWGyYJ0xP1DYUWk8Fwm', 'analysis_url': 'https://api.spotify.com/v1/audio-analysis/0HPmWGyYJ0xP1DYUWk8Fwm', 'duration_ms': 244239, 'time_signature': 1}\n",
      "{'id_key': 20, 'danceability': 0.25, 'energy': 0.982, 'key': 1, 'loudness': -7.911, 'mode': 0, 'speechiness': 0.145, 'acousticness': 5.81e-05, 'instrumentalness': 0.000151, 'liveness': 0.171, 'valence': 0.166, 'tempo': 136.707, 'type': 'audio_features', 'id': '5HRWatW5cXb8Ufy3An0LeS', 'uri': 'spotify:track:5HRWatW5cXb8Ufy3An0LeS', 'track_href': 'https://api.spotify.com/v1/tracks/5HRWatW5cXb8Ufy3An0LeS', 'analysis_url': 'https://api.spotify.com/v1/audio-analysis/5HRWatW5cXb8Ufy3An0LeS', 'duration_ms': 126333, 'time_signature': 4}\n",
      "{'id_key': 21, 'danceability': 0.247, 'energy': 0.992, 'key': 8, 'loudness': -7.766, 'mode': 0, 'speechiness': 0.0772, 'acousticness': 2.85e-05, 'instrumentalness': 0.799, 'liveness': 0.0808, 'valence': 0.318, 'tempo': 142.891, 'type': 'audio_features', 'id': '27zu28YulIo7buGdzgN0bm', 'uri': 'spotify:track:27zu28YulIo7buGdzgN0bm', 'track_href': 'https://api.spotify.com/v1/tracks/27zu28YulIo7buGdzgN0bm', 'analysis_url': 'https://api.spotify.com/v1/audio-analysis/27zu28YulIo7buGdzgN0bm', 'duration_ms': 237093, 'time_signature': 4}\n",
      "{'id_key': 22, 'danceability': 0.196, 'energy': 0.983, 'key': 8, 'loudness': -8.466, 'mode': 0, 'speechiness': 0.0818, 'acousticness': 3.05e-06, 'instrumentalness': 0.919, 'liveness': 0.0959, 'valence': 0.316, 'tempo': 179.661, 'type': 'audio_features', 'id': '4uy1mXLQUe6IW9BNUfZx15', 'uri': 'spotify:track:4uy1mXLQUe6IW9BNUfZx15', 'track_href': 'https://api.spotify.com/v1/tracks/4uy1mXLQUe6IW9BNUfZx15', 'analysis_url': 'https://api.spotify.com/v1/audio-analysis/4uy1mXLQUe6IW9BNUfZx15', 'duration_ms': 183827, 'time_signature': 4}\n",
      "{'id_key': 23, 'danceability': 0.454, 'energy': 0.968, 'key': 6, 'loudness': -6.289, 'mode': 1, 'speechiness': 0.0787, 'acousticness': 1.73e-05, 'instrumentalness': 0.338, 'liveness': 0.0472, 'valence': 0.535, 'tempo': 103.965, 'type': 'audio_features', 'id': '3iZOVTPjyUEq9f5HsUQCj7', 'uri': 'spotify:track:3iZOVTPjyUEq9f5HsUQCj7', 'track_href': 'https://api.spotify.com/v1/tracks/3iZOVTPjyUEq9f5HsUQCj7', 'analysis_url': 'https://api.spotify.com/v1/audio-analysis/3iZOVTPjyUEq9f5HsUQCj7', 'duration_ms': 250262, 'time_signature': 4}\n",
      "{'id_key': 24, 'danceability': 0.245, 'energy': 0.915, 'key': 1, 'loudness': -8.992, 'mode': 1, 'speechiness': 0.0718, 'acousticness': 9.86e-05, 'instrumentalness': 0.704, 'liveness': 0.633, 'valence': 0.482, 'tempo': 101.017, 'type': 'audio_features', 'id': '67gauLFb25vQYR7qMhNnTT', 'uri': 'spotify:track:67gauLFb25vQYR7qMhNnTT', 'track_href': 'https://api.spotify.com/v1/tracks/67gauLFb25vQYR7qMhNnTT', 'analysis_url': 'https://api.spotify.com/v1/audio-analysis/67gauLFb25vQYR7qMhNnTT', 'duration_ms': 228733, 'time_signature': 3}\n",
      "{'id_key': 25, 'danceability': 0.794, 'energy': 0.659, 'key': 7, 'loudness': -7.063, 'mode': 0, 'speechiness': 0.0498, 'acousticness': 0.143, 'instrumentalness': 0.00224, 'liveness': 0.0944, 'valence': 0.308, 'tempo': 112.019, 'type': 'audio_features', 'id': '6hzi3AGB39FjxFqcjgbWs7', 'uri': 'spotify:track:6hzi3AGB39FjxFqcjgbWs7', 'track_href': 'https://api.spotify.com/v1/tracks/6hzi3AGB39FjxFqcjgbWs7', 'analysis_url': 'https://api.spotify.com/v1/audio-analysis/6hzi3AGB39FjxFqcjgbWs7', 'duration_ms': 247460, 'time_signature': 4}\n",
      "{'id_key': 26, 'danceability': 0.777, 'energy': 0.698, 'key': 6, 'loudness': -7.706, 'mode': 0, 'speechiness': 0.0704, 'acousticness': 0.293, 'instrumentalness': 2.32e-05, 'liveness': 0.0908, 'valence': 0.119, 'tempo': 119.963, 'type': 'audio_features', 'id': '6VSaNvPPagk4U5Skxp6XfV', 'uri': 'spotify:track:6VSaNvPPagk4U5Skxp6XfV', 'track_href': 'https://api.spotify.com/v1/tracks/6VSaNvPPagk4U5Skxp6XfV', 'analysis_url': 'https://api.spotify.com/v1/audio-analysis/6VSaNvPPagk4U5Skxp6XfV', 'duration_ms': 247161, 'time_signature': 4}\n",
      "{'id_key': 27, 'danceability': 0.592, 'energy': 0.371, 'key': 9, 'loudness': -9.965, 'mode': 0, 'speechiness': 0.0437, 'acousticness': 0.4, 'instrumentalness': 0.000367, 'liveness': 0.0953, 'valence': 0.197, 'tempo': 127.966, 'type': 'audio_features', 'id': '1gVnckXtTdCoLwtiPPqlQS', 'uri': 'spotify:track:1gVnckXtTdCoLwtiPPqlQS', 'track_href': 'https://api.spotify.com/v1/tracks/1gVnckXtTdCoLwtiPPqlQS', 'analysis_url': 'https://api.spotify.com/v1/audio-analysis/1gVnckXtTdCoLwtiPPqlQS', 'duration_ms': 316546, 'time_signature': 4}\n",
      "{'id_key': 28, 'danceability': 0.729, 'energy': 0.533, 'key': 9, 'loudness': -10.104, 'mode': 0, 'speechiness': 0.444, 'acousticness': 0.747, 'instrumentalness': 4.54e-06, 'liveness': 0.0848, 'valence': 0.422, 'tempo': 155.999, 'type': 'audio_features', 'id': '1w2OwBeojIZI8hTI5WkMkV', 'uri': 'spotify:track:1w2OwBeojIZI8hTI5WkMkV', 'track_href': 'https://api.spotify.com/v1/tracks/1w2OwBeojIZI8hTI5WkMkV', 'analysis_url': 'https://api.spotify.com/v1/audio-analysis/1w2OwBeojIZI8hTI5WkMkV', 'duration_ms': 225953, 'time_signature': 4}\n",
      "{'id_key': 29, 'danceability': 0.798, 'energy': 0.564, 'key': 2, 'loudness': -5.98, 'mode': 1, 'speechiness': 0.047, 'acousticness': 0.23, 'instrumentalness': 1.83e-05, 'liveness': 0.183, 'valence': 0.394, 'tempo': 108.004, 'type': 'audio_features', 'id': '295SxdR1DqunCNwd0U767w', 'uri': 'spotify:track:295SxdR1DqunCNwd0U767w', 'track_href': 'https://api.spotify.com/v1/tracks/295SxdR1DqunCNwd0U767w', 'analysis_url': 'https://api.spotify.com/v1/audio-analysis/295SxdR1DqunCNwd0U767w', 'duration_ms': 254218, 'time_signature': 4}\n",
      "{'id_key': 30, 'danceability': 0.826, 'energy': 0.76, 'key': 11, 'loudness': -6.382, 'mode': 0, 'speechiness': 0.117, 'acousticness': 0.392, 'instrumentalness': 0.0, 'liveness': 0.132, 'valence': 0.813, 'tempo': 99.974, 'type': 'audio_features', 'id': '6YHnhfw8yMCx4vZvsgem3D', 'uri': 'spotify:track:6YHnhfw8yMCx4vZvsgem3D', 'track_href': 'https://api.spotify.com/v1/tracks/6YHnhfw8yMCx4vZvsgem3D', 'analysis_url': 'https://api.spotify.com/v1/audio-analysis/6YHnhfw8yMCx4vZvsgem3D', 'duration_ms': 216285, 'time_signature': 4}\n",
      "{'id_key': 31, 'danceability': 0.784, 'energy': 0.7, 'key': 7, 'loudness': -7.649, 'mode': 0, 'speechiness': 0.108, 'acousticness': 0.491, 'instrumentalness': 0.0, 'liveness': 0.108, 'valence': 0.769, 'tempo': 82.028, 'type': 'audio_features', 'id': '00X2yv2vrtritPt2CZnUTZ', 'uri': 'spotify:track:00X2yv2vrtritPt2CZnUTZ', 'track_href': 'https://api.spotify.com/v1/tracks/00X2yv2vrtritPt2CZnUTZ', 'analysis_url': 'https://api.spotify.com/v1/audio-analysis/00X2yv2vrtritPt2CZnUTZ', 'duration_ms': 190067, 'time_signature': 4}\n",
      "{'id_key': 32, 'danceability': 0.539, 'energy': 0.487, 'key': 1, 'loudness': -9.653, 'mode': 1, 'speechiness': 0.202, 'acousticness': 0.309, 'instrumentalness': 0.0, 'liveness': 0.097, 'valence': 0.375, 'tempo': 169.985, 'type': 'audio_features', 'id': '0vfB1HhL36tfV8q6LLKtgo', 'uri': 'spotify:track:0vfB1HhL36tfV8q6LLKtgo', 'track_href': 'https://api.spotify.com/v1/tracks/0vfB1HhL36tfV8q6LLKtgo', 'analysis_url': 'https://api.spotify.com/v1/audio-analysis/0vfB1HhL36tfV8q6LLKtgo', 'duration_ms': 186353, 'time_signature': 4}\n",
      "{'id_key': 33, 'danceability': 0.688, 'energy': 0.569, 'key': 10, 'loudness': -7.007, 'mode': 0, 'speechiness': 0.0375, 'acousticness': 0.392, 'instrumentalness': 0.000175, 'liveness': 0.12, 'valence': 0.359, 'tempo': 109.041, 'type': 'audio_features', 'id': '4GCIYE1x1TWJCChPkpy9by', 'uri': 'spotify:track:4GCIYE1x1TWJCChPkpy9by', 'track_href': 'https://api.spotify.com/v1/tracks/4GCIYE1x1TWJCChPkpy9by', 'analysis_url': 'https://api.spotify.com/v1/audio-analysis/4GCIYE1x1TWJCChPkpy9by', 'duration_ms': 252373, 'time_signature': 4}\n",
      "{'id_key': 34, 'danceability': 0.745, 'energy': 0.456, 'key': 8, 'loudness': -9.482, 'mode': 1, 'speechiness': 0.0874, 'acousticness': 0.44, 'instrumentalness': 0.0, 'liveness': 0.072, 'valence': 0.124, 'tempo': 94.032, 'type': 'audio_features', 'id': '5n9NAd0Y5OUeOGU0nVtLua', 'uri': 'spotify:track:5n9NAd0Y5OUeOGU0nVtLua', 'track_href': 'https://api.spotify.com/v1/tracks/5n9NAd0Y5OUeOGU0nVtLua', 'analysis_url': 'https://api.spotify.com/v1/audio-analysis/5n9NAd0Y5OUeOGU0nVtLua', 'duration_ms': 314367, 'time_signature': 4}\n",
      "{'id_key': 35, 'danceability': 0.779, 'energy': 0.705, 'key': 4, 'loudness': -7.834, 'mode': 0, 'speechiness': 0.0827, 'acousticness': 0.277, 'instrumentalness': 0.0, 'liveness': 0.0804, 'valence': 0.228, 'tempo': 103.048, 'type': 'audio_features', 'id': '4LAGHmHcSt0HHwXCJcFri6', 'uri': 'spotify:track:4LAGHmHcSt0HHwXCJcFri6', 'track_href': 'https://api.spotify.com/v1/tracks/4LAGHmHcSt0HHwXCJcFri6', 'analysis_url': 'https://api.spotify.com/v1/audio-analysis/4LAGHmHcSt0HHwXCJcFri6', 'duration_ms': 233597, 'time_signature': 4}\n",
      "{'id_key': 36, 'danceability': 0.609, 'energy': 0.517, 'key': 6, 'loudness': -7.557, 'mode': 0, 'speechiness': 0.0451, 'acousticness': 0.231, 'instrumentalness': 3.62e-05, 'liveness': 0.0777, 'valence': 0.0761, 'tempo': 120.914, 'type': 'audio_features', 'id': '0lkQfsTMmtDA37tjjew9n0', 'uri': 'spotify:track:0lkQfsTMmtDA37tjjew9n0', 'track_href': 'https://api.spotify.com/v1/tracks/0lkQfsTMmtDA37tjjew9n0', 'analysis_url': 'https://api.spotify.com/v1/audio-analysis/0lkQfsTMmtDA37tjjew9n0', 'duration_ms': 285627, 'time_signature': 4}\n",
      "{'id_key': 37, 'danceability': 0.715, 'energy': 0.682, 'key': 7, 'loudness': -7.714, 'mode': 1, 'speechiness': 0.1, 'acousticness': 0.325, 'instrumentalness': 4.2e-06, 'liveness': 0.0928, 'valence': 0.136, 'tempo': 103.037, 'type': 'audio_features', 'id': '5UOGzIMvxXyRZIWBbqDcpU', 'uri': 'spotify:track:5UOGzIMvxXyRZIWBbqDcpU', 'track_href': 'https://api.spotify.com/v1/tracks/5UOGzIMvxXyRZIWBbqDcpU', 'analysis_url': 'https://api.spotify.com/v1/audio-analysis/5UOGzIMvxXyRZIWBbqDcpU', 'duration_ms': 230013, 'time_signature': 4}\n",
      "{'id_key': 38, 'danceability': 0.656, 'energy': 0.381, 'key': 0, 'loudness': -8.757, 'mode': 0, 'speechiness': 0.0802, 'acousticness': 0.653, 'instrumentalness': 0.0, 'liveness': 0.116, 'valence': 0.166, 'tempo': 84.907, 'type': 'audio_features', 'id': '1gRMO4h3NGb1ZJA7TNdMPj', 'uri': 'spotify:track:1gRMO4h3NGb1ZJA7TNdMPj', 'track_href': 'https://api.spotify.com/v1/tracks/1gRMO4h3NGb1ZJA7TNdMPj', 'analysis_url': 'https://api.spotify.com/v1/audio-analysis/1gRMO4h3NGb1ZJA7TNdMPj', 'duration_ms': 325556, 'time_signature': 4}\n",
      "{'id_key': 39, 'danceability': 0.648, 'energy': 0.465, 'key': 6, 'loudness': -9.716, 'mode': 0, 'speechiness': 0.171, 'acousticness': 0.772, 'instrumentalness': 1.98e-06, 'liveness': 0.287, 'valence': 0.407, 'tempo': 103.025, 'type': 'audio_features', 'id': '7dn6WQzScfRGpp7XdTiCj0', 'uri': 'spotify:track:7dn6WQzScfRGpp7XdTiCj0', 'track_href': 'https://api.spotify.com/v1/tracks/7dn6WQzScfRGpp7XdTiCj0', 'analysis_url': 'https://api.spotify.com/v1/audio-analysis/7dn6WQzScfRGpp7XdTiCj0', 'duration_ms': 256281, 'time_signature': 4}\n",
      "{'id_key': 40, 'danceability': 0.734, 'energy': 0.425, 'key': 0, 'loudness': -9.773, 'mode': 1, 'speechiness': 0.0635, 'acousticness': 0.131, 'instrumentalness': 1.71e-05, 'liveness': 0.0726, 'valence': 0.235, 'tempo': 114.969, 'type': 'audio_features', 'id': '2lFWyfuXtCN8Sb7cHJILva', 'uri': 'spotify:track:2lFWyfuXtCN8Sb7cHJILva', 'track_href': 'https://api.spotify.com/v1/tracks/2lFWyfuXtCN8Sb7cHJILva', 'analysis_url': 'https://api.spotify.com/v1/audio-analysis/2lFWyfuXtCN8Sb7cHJILva', 'duration_ms': 268347, 'time_signature': 4}\n",
      "{'id_key': 41, 'danceability': 0.762, 'energy': 0.6, 'key': 5, 'loudness': -7.585, 'mode': 0, 'speechiness': 0.0909, 'acousticness': 0.542, 'instrumentalness': 0.0, 'liveness': 0.0841, 'valence': 0.39, 'tempo': 115.908, 'type': 'audio_features', 'id': '2jBleFNl3YK8lyJc1OvxXt', 'uri': 'spotify:track:2jBleFNl3YK8lyJc1OvxXt', 'track_href': 'https://api.spotify.com/v1/tracks/2jBleFNl3YK8lyJc1OvxXt', 'analysis_url': 'https://api.spotify.com/v1/audio-analysis/2jBleFNl3YK8lyJc1OvxXt', 'duration_ms': 352627, 'time_signature': 4}\n",
      "{'id_key': 42, 'danceability': 0.909, 'energy': 0.582, 'key': 7, 'loudness': -5.357, 'mode': 1, 'speechiness': 0.0665, 'acousticness': 0.0696, 'instrumentalness': 4.78e-05, 'liveness': 0.0984, 'valence': 0.844, 'tempo': 126.063, 'type': 'audio_features', 'id': '5gqh2FMBquUEwDsRUU4pCF', 'uri': 'spotify:track:5gqh2FMBquUEwDsRUU4pCF', 'track_href': 'https://api.spotify.com/v1/tracks/5gqh2FMBquUEwDsRUU4pCF', 'analysis_url': 'https://api.spotify.com/v1/audio-analysis/5gqh2FMBquUEwDsRUU4pCF', 'duration_ms': 249598, 'time_signature': 4}\n",
      "{'id_key': 43, 'danceability': 0.583, 'energy': 0.381, 'key': 9, 'loudness': -10.033, 'mode': 0, 'speechiness': 0.0429, 'acousticness': 0.416, 'instrumentalness': 0.000226, 'liveness': 0.0958, 'valence': 0.153, 'tempo': 127.667, 'type': 'audio_features', 'id': '6aH3QgooXRmx8k8jzrSm3V', 'uri': 'spotify:track:6aH3QgooXRmx8k8jzrSm3V', 'track_href': 'https://api.spotify.com/v1/tracks/6aH3QgooXRmx8k8jzrSm3V', 'analysis_url': 'https://api.spotify.com/v1/audio-analysis/6aH3QgooXRmx8k8jzrSm3V', 'duration_ms': 316378, 'time_signature': 4}\n",
      "{'id_key': 44, 'danceability': 0.803, 'energy': 0.624, 'key': 7, 'loudness': -6.764, 'mode': 0, 'speechiness': 0.0477, 'acousticness': 0.451, 'instrumentalness': 0.000734, 'liveness': 0.1, 'valence': 0.628, 'tempo': 95.968, 'type': 'audio_features', 'id': '1s3XtkdfT3obSCbQVWtvX9', 'uri': 'spotify:track:1s3XtkdfT3obSCbQVWtvX9', 'track_href': 'https://api.spotify.com/v1/tracks/1s3XtkdfT3obSCbQVWtvX9', 'analysis_url': 'https://api.spotify.com/v1/audio-analysis/1s3XtkdfT3obSCbQVWtvX9', 'duration_ms': 304524, 'time_signature': 4}\n",
      "{'id_key': 45, 'danceability': 0.213, 'energy': 0.0656, 'key': 7, 'loudness': -24.81, 'mode': 1, 'speechiness': 0.0467, 'acousticness': 0.992, 'instrumentalness': 0.969, 'liveness': 0.0699, 'valence': 0.0384, 'tempo': 65.023, 'type': 'audio_features', 'id': '3U8Fx7zNTQrctytkj6Gqgd', 'uri': 'spotify:track:3U8Fx7zNTQrctytkj6Gqgd', 'track_href': 'https://api.spotify.com/v1/tracks/3U8Fx7zNTQrctytkj6Gqgd', 'analysis_url': 'https://api.spotify.com/v1/audio-analysis/3U8Fx7zNTQrctytkj6Gqgd', 'duration_ms': 150147, 'time_signature': 3}\n",
      "{'id_key': 46, 'danceability': 0.701, 'energy': 0.341, 'key': 1, 'loudness': -12.26, 'mode': 0, 'speechiness': 0.0418, 'acousticness': 0.499, 'instrumentalness': 0.903, 'liveness': 0.359, 'valence': 0.163, 'tempo': 105.513, 'type': 'audio_features', 'id': '5xbuJuQsTVheVZvX2AJVIv', 'uri': 'spotify:track:5xbuJuQsTVheVZvX2AJVIv', 'track_href': 'https://api.spotify.com/v1/tracks/5xbuJuQsTVheVZvX2AJVIv', 'analysis_url': 'https://api.spotify.com/v1/audio-analysis/5xbuJuQsTVheVZvX2AJVIv', 'duration_ms': 151507, 'time_signature': 3}\n",
      "{'id_key': 47, 'danceability': 0.368, 'energy': 0.00363, 'key': 1, 'loudness': -36.759, 'mode': 1, 'speechiness': 0.035, 'acousticness': 0.993, 'instrumentalness': 0.922, 'liveness': 0.137, 'valence': 0.085, 'tempo': 69.363, 'type': 'audio_features', 'id': '1L4NadMj3Jj7YgGaikyhfr', 'uri': 'spotify:track:1L4NadMj3Jj7YgGaikyhfr', 'track_href': 'https://api.spotify.com/v1/tracks/1L4NadMj3Jj7YgGaikyhfr', 'analysis_url': 'https://api.spotify.com/v1/audio-analysis/1L4NadMj3Jj7YgGaikyhfr', 'duration_ms': 254000, 'time_signature': 3}\n",
      "{'id_key': 48, 'danceability': 0.191, 'energy': 0.0582, 'key': 8, 'loudness': -25.398, 'mode': 1, 'speechiness': 0.0578, 'acousticness': 0.961, 'instrumentalness': 0.89, 'liveness': 0.0941, 'valence': 0.0454, 'tempo': 132.614, 'type': 'audio_features', 'id': '3weNRklVDqb4Rr5MhKBR3D', 'uri': 'spotify:track:3weNRklVDqb4Rr5MhKBR3D', 'track_href': 'https://api.spotify.com/v1/tracks/3weNRklVDqb4Rr5MhKBR3D', 'analysis_url': 'https://api.spotify.com/v1/audio-analysis/3weNRklVDqb4Rr5MhKBR3D', 'duration_ms': 357707, 'time_signature': 1}\n",
      "{'id_key': 49, 'danceability': 0.261, 'energy': 0.0149, 'key': 1, 'loudness': -27.528, 'mode': 1, 'speechiness': 0.0419, 'acousticness': 0.992, 'instrumentalness': 0.897, 'liveness': 0.102, 'valence': 0.0382, 'tempo': 75.296, 'type': 'audio_features', 'id': '2d6ml9Qkx8r4EjuUyrdpRV', 'uri': 'spotify:track:2d6ml9Qkx8r4EjuUyrdpRV', 'track_href': 'https://api.spotify.com/v1/tracks/2d6ml9Qkx8r4EjuUyrdpRV', 'analysis_url': 'https://api.spotify.com/v1/audio-analysis/2d6ml9Qkx8r4EjuUyrdpRV', 'duration_ms': 286987, 'time_signature': 4}\n",
      "{'id_key': 50, 'danceability': 0.334, 'energy': 0.00732, 'key': 4, 'loudness': -30.908, 'mode': 0, 'speechiness': 0.0355, 'acousticness': 0.991, 'instrumentalness': 0.952, 'liveness': 0.0968, 'valence': 0.0964, 'tempo': 60.171, 'type': 'audio_features', 'id': '64LTn5fTsPR0QLy7bVYl9w', 'uri': 'spotify:track:64LTn5fTsPR0QLy7bVYl9w', 'track_href': 'https://api.spotify.com/v1/tracks/64LTn5fTsPR0QLy7bVYl9w', 'analysis_url': 'https://api.spotify.com/v1/audio-analysis/64LTn5fTsPR0QLy7bVYl9w', 'duration_ms': 241987, 'time_signature': 4}\n",
      "{'id_key': 51, 'danceability': 0.392, 'energy': 0.0536, 'key': 4, 'loudness': -23.399, 'mode': 1, 'speechiness': 0.0571, 'acousticness': 0.995, 'instrumentalness': 0.867, 'liveness': 0.0808, 'valence': 0.0417, 'tempo': 71.286, 'type': 'audio_features', 'id': '6YDgMoJ8ssOuKjQ6jiz4Kk', 'uri': 'spotify:track:6YDgMoJ8ssOuKjQ6jiz4Kk', 'track_href': 'https://api.spotify.com/v1/tracks/6YDgMoJ8ssOuKjQ6jiz4Kk', 'analysis_url': 'https://api.spotify.com/v1/audio-analysis/6YDgMoJ8ssOuKjQ6jiz4Kk', 'duration_ms': 234467, 'time_signature': 4}\n",
      "{'id_key': 52, 'danceability': 0.499, 'energy': 0.351, 'key': 9, 'loudness': -11.509, 'mode': 0, 'speechiness': 0.0448, 'acousticness': 0.951, 'instrumentalness': 9.94e-05, 'liveness': 0.118, 'valence': 0.616, 'tempo': 90.664, 'type': 'audio_features', 'id': '28XMNc5If5BmJWYDU42gkw', 'uri': 'spotify:track:28XMNc5If5BmJWYDU42gkw', 'track_href': 'https://api.spotify.com/v1/tracks/28XMNc5If5BmJWYDU42gkw', 'analysis_url': 'https://api.spotify.com/v1/audio-analysis/28XMNc5If5BmJWYDU42gkw', 'duration_ms': 235947, 'time_signature': 4}\n",
      "{'id_key': 53, 'danceability': 0.364, 'energy': 0.00799, 'key': 8, 'loudness': -33.09, 'mode': 1, 'speechiness': 0.0395, 'acousticness': 0.978, 'instrumentalness': 0.894, 'liveness': 0.109, 'valence': 0.0674, 'tempo': 101.226, 'type': 'audio_features', 'id': '1eqyKmkcp7b2s1PU9fEZRS', 'uri': 'spotify:track:1eqyKmkcp7b2s1PU9fEZRS', 'track_href': 'https://api.spotify.com/v1/tracks/1eqyKmkcp7b2s1PU9fEZRS', 'analysis_url': 'https://api.spotify.com/v1/audio-analysis/1eqyKmkcp7b2s1PU9fEZRS', 'duration_ms': 216093, 'time_signature': 4}\n",
      "{'id_key': 54, 'danceability': 0.205, 'energy': 0.129, 'key': 7, 'loudness': -18.197, 'mode': 1, 'speechiness': 0.0595, 'acousticness': 0.968, 'instrumentalness': 0.946, 'liveness': 0.101, 'valence': 0.296, 'tempo': 136.871, 'type': 'audio_features', 'id': '7N2tmiKcG2bUgZkuRKXor4', 'uri': 'spotify:track:7N2tmiKcG2bUgZkuRKXor4', 'track_href': 'https://api.spotify.com/v1/tracks/7N2tmiKcG2bUgZkuRKXor4', 'analysis_url': 'https://api.spotify.com/v1/audio-analysis/7N2tmiKcG2bUgZkuRKXor4', 'duration_ms': 169924, 'time_signature': 4}\n",
      "{'id_key': 55, 'danceability': 0.335, 'energy': 0.0287, 'key': 10, 'loudness': -27.4, 'mode': 1, 'speechiness': 0.041, 'acousticness': 0.991, 'instrumentalness': 0.888, 'liveness': 0.0874, 'valence': 0.0371, 'tempo': 67.446, 'type': 'audio_features', 'id': '6mfmrVSe5Cm7cvsNwW6uJk', 'uri': 'spotify:track:6mfmrVSe5Cm7cvsNwW6uJk', 'track_href': 'https://api.spotify.com/v1/tracks/6mfmrVSe5Cm7cvsNwW6uJk', 'analysis_url': 'https://api.spotify.com/v1/audio-analysis/6mfmrVSe5Cm7cvsNwW6uJk', 'duration_ms': 328000, 'time_signature': 4}\n",
      "{'id_key': 56, 'danceability': 0.438, 'energy': 0.0825, 'key': 9, 'loudness': -21.686, 'mode': 0, 'speechiness': 0.0695, 'acousticness': 0.983, 'instrumentalness': 0.0749, 'liveness': 0.0461, 'valence': 0.37, 'tempo': 106.275, 'type': 'audio_features', 'id': '1seJCRhM5PqQ5xGebh0iQ0', 'uri': 'spotify:track:1seJCRhM5PqQ5xGebh0iQ0', 'track_href': 'https://api.spotify.com/v1/tracks/1seJCRhM5PqQ5xGebh0iQ0', 'analysis_url': 'https://api.spotify.com/v1/audio-analysis/1seJCRhM5PqQ5xGebh0iQ0', 'duration_ms': 270000, 'time_signature': 5}\n",
      "{'id_key': 57, 'danceability': 0.447, 'energy': 0.449, 'key': 2, 'loudness': -10.634, 'mode': 1, 'speechiness': 0.0376, 'acousticness': 0.934, 'instrumentalness': 0.961, 'liveness': 0.0697, 'valence': 0.036, 'tempo': 92.468, 'type': 'audio_features', 'id': '1BncfTJAWxrsxyT9culBrj', 'uri': 'spotify:track:1BncfTJAWxrsxyT9culBrj', 'track_href': 'https://api.spotify.com/v1/tracks/1BncfTJAWxrsxyT9culBrj', 'analysis_url': 'https://api.spotify.com/v1/audio-analysis/1BncfTJAWxrsxyT9culBrj', 'duration_ms': 315427, 'time_signature': 4}\n",
      "{'id_key': 58, 'danceability': 0.267, 'energy': 0.0024, 'key': 1, 'loudness': -42.261, 'mode': 0, 'speechiness': 0.0531, 'acousticness': 0.995, 'instrumentalness': 0.897, 'liveness': 0.0942, 'valence': 0.267, 'tempo': 71.428, 'type': 'audio_features', 'id': '0kckvKwPBjQuVLgwGnICAv', 'uri': 'spotify:track:0kckvKwPBjQuVLgwGnICAv', 'track_href': 'https://api.spotify.com/v1/tracks/0kckvKwPBjQuVLgwGnICAv', 'analysis_url': 'https://api.spotify.com/v1/audio-analysis/0kckvKwPBjQuVLgwGnICAv', 'duration_ms': 397773, 'time_signature': 4}\n",
      "{'id_key': 59, 'danceability': 0.463, 'energy': 0.155, 'key': 5, 'loudness': -17.164, 'mode': 1, 'speechiness': 0.044, 'acousticness': 0.877, 'instrumentalness': 0.261, 'liveness': 0.105, 'valence': 0.222, 'tempo': 122.437, 'type': 'audio_features', 'id': '0U69ZvJfshKs1OVIyW1E7B', 'uri': 'spotify:track:0U69ZvJfshKs1OVIyW1E7B', 'track_href': 'https://api.spotify.com/v1/tracks/0U69ZvJfshKs1OVIyW1E7B', 'analysis_url': 'https://api.spotify.com/v1/audio-analysis/0U69ZvJfshKs1OVIyW1E7B', 'duration_ms': 301720, 'time_signature': 4}\n",
      "{'id_key': 60, 'danceability': 0.23, 'energy': 0.0487, 'key': 5, 'loudness': -27.675, 'mode': 1, 'speechiness': 0.0412, 'acousticness': 0.986, 'instrumentalness': 0.945, 'liveness': 0.0679, 'valence': 0.101, 'tempo': 134.839, 'type': 'audio_features', 'id': '0H2VhGUC3P3hvwz8rdGIpC', 'uri': 'spotify:track:0H2VhGUC3P3hvwz8rdGIpC', 'track_href': 'https://api.spotify.com/v1/tracks/0H2VhGUC3P3hvwz8rdGIpC', 'analysis_url': 'https://api.spotify.com/v1/audio-analysis/0H2VhGUC3P3hvwz8rdGIpC', 'duration_ms': 203656, 'time_signature': 5}\n",
      "{'id_key': 61, 'danceability': 0.28, 'energy': 0.104, 'key': 2, 'loudness': -19.802, 'mode': 1, 'speechiness': 0.0336, 'acousticness': 0.935, 'instrumentalness': 0.866, 'liveness': 0.362, 'valence': 0.176, 'tempo': 92.628, 'type': 'audio_features', 'id': '5qVqMPQdfFywNQIOP7Ncdz', 'uri': 'spotify:track:5qVqMPQdfFywNQIOP7Ncdz', 'track_href': 'https://api.spotify.com/v1/tracks/5qVqMPQdfFywNQIOP7Ncdz', 'analysis_url': 'https://api.spotify.com/v1/audio-analysis/5qVqMPQdfFywNQIOP7Ncdz', 'duration_ms': 310000, 'time_signature': 4}\n",
      "{'id_key': 62, 'danceability': 0.191, 'energy': 0.0317, 'key': 9, 'loudness': -35.616, 'mode': 0, 'speechiness': 0.0407, 'acousticness': 0.984, 'instrumentalness': 0.888, 'liveness': 0.0974, 'valence': 0.142, 'tempo': 135.974, 'type': 'audio_features', 'id': '1mlLOJXeUrwviYpUHYeZE8', 'uri': 'spotify:track:1mlLOJXeUrwviYpUHYeZE8', 'track_href': 'https://api.spotify.com/v1/tracks/1mlLOJXeUrwviYpUHYeZE8', 'analysis_url': 'https://api.spotify.com/v1/audio-analysis/1mlLOJXeUrwviYpUHYeZE8', 'duration_ms': 150733, 'time_signature': 3}\n",
      "{'id_key': 63, 'danceability': 0.379, 'energy': 0.075, 'key': 0, 'loudness': -20.328, 'mode': 1, 'speechiness': 0.0408, 'acousticness': 0.992, 'instrumentalness': 0.913, 'liveness': 0.106, 'valence': 0.0353, 'tempo': 68.232, 'type': 'audio_features', 'id': '0OrZXWjGgGUuoIoqnLvtJN', 'uri': 'spotify:track:0OrZXWjGgGUuoIoqnLvtJN', 'track_href': 'https://api.spotify.com/v1/tracks/0OrZXWjGgGUuoIoqnLvtJN', 'analysis_url': 'https://api.spotify.com/v1/audio-analysis/0OrZXWjGgGUuoIoqnLvtJN', 'duration_ms': 241187, 'time_signature': 3}\n",
      "{'id_key': 64, 'danceability': 0.166, 'energy': 0.0551, 'key': 9, 'loudness': -19.494, 'mode': 0, 'speechiness': 0.052, 'acousticness': 0.976, 'instrumentalness': 0.635, 'liveness': 0.119, 'valence': 0.143, 'tempo': 176.616, 'type': 'audio_features', 'id': '3QPPP2YozZ5xmMmpDB3c9n', 'uri': 'spotify:track:3QPPP2YozZ5xmMmpDB3c9n', 'track_href': 'https://api.spotify.com/v1/tracks/3QPPP2YozZ5xmMmpDB3c9n', 'analysis_url': 'https://api.spotify.com/v1/audio-analysis/3QPPP2YozZ5xmMmpDB3c9n', 'duration_ms': 206520, 'time_signature': 3}\n",
      "{'id_key': 65, 'danceability': 0.318, 'energy': 0.0633, 'key': 6, 'loudness': -23.869, 'mode': 1, 'speechiness': 0.0507, 'acousticness': 0.992, 'instrumentalness': 0.871, 'liveness': 0.0831, 'valence': 0.0384, 'tempo': 129.466, 'type': 'audio_features', 'id': '1GBUqmdRjScFoG0cs8jEGZ', 'uri': 'spotify:track:1GBUqmdRjScFoG0cs8jEGZ', 'track_href': 'https://api.spotify.com/v1/tracks/1GBUqmdRjScFoG0cs8jEGZ', 'analysis_url': 'https://api.spotify.com/v1/audio-analysis/1GBUqmdRjScFoG0cs8jEGZ', 'duration_ms': 199133, 'time_signature': 3}\n",
      "{'id_key': 66, 'danceability': 0.456, 'energy': 0.456, 'key': 11, 'loudness': -16.055, 'mode': 0, 'speechiness': 0.0535, 'acousticness': 0.973, 'instrumentalness': 0.353, 'liveness': 0.186, 'valence': 0.974, 'tempo': 144.489, 'type': 'audio_features', 'id': '4XJXYvjW0CB2MLMk8l7Vdi', 'uri': 'spotify:track:4XJXYvjW0CB2MLMk8l7Vdi', 'track_href': 'https://api.spotify.com/v1/tracks/4XJXYvjW0CB2MLMk8l7Vdi', 'analysis_url': 'https://api.spotify.com/v1/audio-analysis/4XJXYvjW0CB2MLMk8l7Vdi', 'duration_ms': 210680, 'time_signature': 3}\n",
      "{'id_key': 67, 'danceability': 0.307, 'energy': 0.0515, 'key': 4, 'loudness': -28.493, 'mode': 0, 'speechiness': 0.0324, 'acousticness': 0.708, 'instrumentalness': 0.631, 'liveness': 0.42, 'valence': 0.154, 'tempo': 128.056, 'type': 'audio_features', 'id': '5xm20JNLHy9vUVrnmZS6Uj', 'uri': 'spotify:track:5xm20JNLHy9vUVrnmZS6Uj', 'track_href': 'https://api.spotify.com/v1/tracks/5xm20JNLHy9vUVrnmZS6Uj', 'analysis_url': 'https://api.spotify.com/v1/audio-analysis/5xm20JNLHy9vUVrnmZS6Uj', 'duration_ms': 125533, 'time_signature': 4}\n",
      "{'id_key': 68, 'danceability': 0.235, 'energy': 0.365, 'key': 7, 'loudness': -13.864, 'mode': 1, 'speechiness': 0.0356, 'acousticness': 0.927, 'instrumentalness': 0.907, 'liveness': 0.17, 'valence': 0.126, 'tempo': 91.187, 'type': 'audio_features', 'id': '7KrdT8Zk0WGeyNtaCwQR08', 'uri': 'spotify:track:7KrdT8Zk0WGeyNtaCwQR08', 'track_href': 'https://api.spotify.com/v1/tracks/7KrdT8Zk0WGeyNtaCwQR08', 'analysis_url': 'https://api.spotify.com/v1/audio-analysis/7KrdT8Zk0WGeyNtaCwQR08', 'duration_ms': 183667, 'time_signature': 3}\n",
      "{'id_key': 69, 'danceability': 0.263, 'energy': 0.202, 'key': 1, 'loudness': -17.687, 'mode': 1, 'speechiness': 0.0408, 'acousticness': 0.984, 'instrumentalness': 0.905, 'liveness': 0.089, 'valence': 0.12, 'tempo': 71.462, 'type': 'audio_features', 'id': '6yjpji2Jlie9S2zBm2GZwE', 'uri': 'spotify:track:6yjpji2Jlie9S2zBm2GZwE', 'track_href': 'https://api.spotify.com/v1/tracks/6yjpji2Jlie9S2zBm2GZwE', 'analysis_url': 'https://api.spotify.com/v1/audio-analysis/6yjpji2Jlie9S2zBm2GZwE', 'duration_ms': 545747, 'time_signature': 4}\n",
      "{'id_key': 70, 'danceability': 0.697, 'energy': 0.809, 'key': 9, 'loudness': -8.197, 'mode': 1, 'speechiness': 0.0302, 'acousticness': 0.114, 'instrumentalness': 0.000521, 'liveness': 0.183, 'valence': 0.98, 'tempo': 125.941, 'type': 'audio_features', 'id': '5nNmj1cLH3r4aA4XDJ2bgY', 'uri': 'spotify:track:5nNmj1cLH3r4aA4XDJ2bgY', 'track_href': 'https://api.spotify.com/v1/tracks/5nNmj1cLH3r4aA4XDJ2bgY', 'analysis_url': 'https://api.spotify.com/v1/audio-analysis/5nNmj1cLH3r4aA4XDJ2bgY', 'duration_ms': 214827, 'time_signature': 4}\n",
      "{'id_key': 71, 'danceability': 0.814, 'energy': 0.672, 'key': 9, 'loudness': -12.068, 'mode': 1, 'speechiness': 0.0619, 'acousticness': 0.0435, 'instrumentalness': 0.0, 'liveness': 0.061, 'valence': 0.933, 'tempo': 109.394, 'type': 'audio_features', 'id': '5uuJruktM9fMdN9Va0DUMl', 'uri': 'spotify:track:5uuJruktM9fMdN9Va0DUMl', 'track_href': 'https://api.spotify.com/v1/tracks/5uuJruktM9fMdN9Va0DUMl', 'analysis_url': 'https://api.spotify.com/v1/audio-analysis/5uuJruktM9fMdN9Va0DUMl', 'duration_ms': 300000, 'time_signature': 4}\n",
      "{'id_key': 72, 'danceability': 0.712, 'energy': 0.552, 'key': 10, 'loudness': -15.485, 'mode': 0, 'speechiness': 0.0363, 'acousticness': 0.0752, 'instrumentalness': 0.0012, 'liveness': 0.15, 'valence': 0.961, 'tempo': 103.604, 'type': 'audio_features', 'id': '1nD9xhaOKlHmZssLhVWRo1', 'uri': 'spotify:track:1nD9xhaOKlHmZssLhVWRo1', 'track_href': 'https://api.spotify.com/v1/tracks/1nD9xhaOKlHmZssLhVWRo1', 'analysis_url': 'https://api.spotify.com/v1/audio-analysis/1nD9xhaOKlHmZssLhVWRo1', 'duration_ms': 281667, 'time_signature': 4}\n",
      "{'id_key': 73, 'danceability': 0.648, 'energy': 0.751, 'key': 8, 'loudness': -8.582, 'mode': 1, 'speechiness': 0.0806, 'acousticness': 0.0182, 'instrumentalness': 0.000401, 'liveness': 0.0418, 'valence': 0.863, 'tempo': 100.437, 'type': 'audio_features', 'id': '4dwrL3Z5U2RZ6MZiKE2PgL', 'uri': 'spotify:track:4dwrL3Z5U2RZ6MZiKE2PgL', 'track_href': 'https://api.spotify.com/v1/tracks/4dwrL3Z5U2RZ6MZiKE2PgL', 'analysis_url': 'https://api.spotify.com/v1/audio-analysis/4dwrL3Z5U2RZ6MZiKE2PgL', 'duration_ms': 244827, 'time_signature': 4}\n",
      "{'id_key': 74, 'danceability': 0.889, 'energy': 0.646, 'key': 7, 'loudness': -6.366, 'mode': 1, 'speechiness': 0.0668, 'acousticness': 0.195, 'instrumentalness': 3.19e-05, 'liveness': 0.0502, 'valence': 0.966, 'tempo': 110.842, 'type': 'audio_features', 'id': '0mLAgHQP1BOkoHhDu622BQ', 'uri': 'spotify:track:0mLAgHQP1BOkoHhDu622BQ', 'track_href': 'https://api.spotify.com/v1/tracks/0mLAgHQP1BOkoHhDu622BQ', 'analysis_url': 'https://api.spotify.com/v1/audio-analysis/0mLAgHQP1BOkoHhDu622BQ', 'duration_ms': 213427, 'time_signature': 4}\n",
      "{'id_key': 75, 'danceability': 0.68, 'energy': 0.877, 'key': 5, 'loudness': -10.241, 'mode': 0, 'speechiness': 0.0353, 'acousticness': 0.191, 'instrumentalness': 0.000656, 'liveness': 0.349, 'valence': 0.922, 'tempo': 108.674, 'type': 'audio_features', 'id': '1qiQduM84A0VeH8Y2uAbqi', 'uri': 'spotify:track:1qiQduM84A0VeH8Y2uAbqi', 'track_href': 'https://api.spotify.com/v1/tracks/1qiQduM84A0VeH8Y2uAbqi', 'analysis_url': 'https://api.spotify.com/v1/audio-analysis/1qiQduM84A0VeH8Y2uAbqi', 'duration_ms': 185107, 'time_signature': 4}\n",
      "{'id_key': 76, 'danceability': 0.72, 'energy': 0.828, 'key': 5, 'loudness': -9.211, 'mode': 1, 'speechiness': 0.0462, 'acousticness': 0.185, 'instrumentalness': 0.429, 'liveness': 0.0839, 'valence': 0.768, 'tempo': 110.071, 'type': 'audio_features', 'id': '3SnGymj6ijE2iuUfWxLo1q', 'uri': 'spotify:track:3SnGymj6ijE2iuUfWxLo1q', 'track_href': 'https://api.spotify.com/v1/tracks/3SnGymj6ijE2iuUfWxLo1q', 'analysis_url': 'https://api.spotify.com/v1/audio-analysis/3SnGymj6ijE2iuUfWxLo1q', 'duration_ms': 323347, 'time_signature': 4}\n",
      "{'id_key': 77, 'danceability': 0.608, 'energy': 0.471, 'key': 0, 'loudness': -8.664, 'mode': 1, 'speechiness': 0.0945, 'acousticness': 0.446, 'instrumentalness': 3.63e-06, 'liveness': 0.369, 'valence': 0.682, 'tempo': 70.702, 'type': 'audio_features', 'id': '0rTkE0FmT4zT2xL6GXwosU', 'uri': 'spotify:track:0rTkE0FmT4zT2xL6GXwosU', 'track_href': 'https://api.spotify.com/v1/tracks/0rTkE0FmT4zT2xL6GXwosU', 'analysis_url': 'https://api.spotify.com/v1/audio-analysis/0rTkE0FmT4zT2xL6GXwosU', 'duration_ms': 165800, 'time_signature': 3}\n",
      "{'id_key': 78, 'danceability': 0.843, 'energy': 0.656, 'key': 1, 'loudness': -11.184, 'mode': 1, 'speechiness': 0.0595, 'acousticness': 0.0466, 'instrumentalness': 0.0187, 'liveness': 0.169, 'valence': 0.931, 'tempo': 121.112, 'type': 'audio_features', 'id': '6CSLNGruNhqpb5zhfs5n3i', 'uri': 'spotify:track:6CSLNGruNhqpb5zhfs5n3i', 'track_href': 'https://api.spotify.com/v1/tracks/6CSLNGruNhqpb5zhfs5n3i', 'analysis_url': 'https://api.spotify.com/v1/audio-analysis/6CSLNGruNhqpb5zhfs5n3i', 'duration_ms': 215653, 'time_signature': 4}\n",
      "{'id_key': 79, 'danceability': 0.62, 'energy': 0.573, 'key': 0, 'loudness': -11.893, 'mode': 1, 'speechiness': 0.0423, 'acousticness': 0.271, 'instrumentalness': 0.0, 'liveness': 0.0607, 'valence': 0.897, 'tempo': 81.548, 'type': 'audio_features', 'id': '0ikz6tENMONtK6qGkOrU3c', 'uri': 'spotify:track:0ikz6tENMONtK6qGkOrU3c', 'track_href': 'https://api.spotify.com/v1/tracks/0ikz6tENMONtK6qGkOrU3c', 'analysis_url': 'https://api.spotify.com/v1/audio-analysis/0ikz6tENMONtK6qGkOrU3c', 'duration_ms': 231333, 'time_signature': 4}\n",
      "{'id_key': 80, 'danceability': 0.598, 'energy': 0.673, 'key': 2, 'loudness': -10.431, 'mode': 1, 'speechiness': 0.0693, 'acousticness': 0.0422, 'instrumentalness': 6.84e-05, 'liveness': 0.289, 'valence': 0.59, 'tempo': 102.035, 'type': 'audio_features', 'id': '40NRm1ZLvZpUSCUXAGGZ8J', 'uri': 'spotify:track:40NRm1ZLvZpUSCUXAGGZ8J', 'track_href': 'https://api.spotify.com/v1/tracks/40NRm1ZLvZpUSCUXAGGZ8J', 'analysis_url': 'https://api.spotify.com/v1/audio-analysis/40NRm1ZLvZpUSCUXAGGZ8J', 'duration_ms': 197693, 'time_signature': 4}\n",
      "{'id_key': 81, 'danceability': 0.651, 'energy': 0.639, 'key': 3, 'loudness': -7.836, 'mode': 0, 'speechiness': 0.0583, 'acousticness': 0.019, 'instrumentalness': 0.0, 'liveness': 0.0522, 'valence': 0.758, 'tempo': 157.738, 'type': 'audio_features', 'id': '45oFq8ZKV9KDhzYb2Rh1y4', 'uri': 'spotify:track:45oFq8ZKV9KDhzYb2Rh1y4', 'track_href': 'https://api.spotify.com/v1/tracks/45oFq8ZKV9KDhzYb2Rh1y4', 'analysis_url': 'https://api.spotify.com/v1/audio-analysis/45oFq8ZKV9KDhzYb2Rh1y4', 'duration_ms': 247440, 'time_signature': 4}\n",
      "{'id_key': 82, 'danceability': 0.461, 'energy': 0.918, 'key': 4, 'loudness': -8.507, 'mode': 1, 'speechiness': 0.0959, 'acousticness': 0.405, 'instrumentalness': 0.00033, 'liveness': 0.126, 'valence': 0.802, 'tempo': 172.435, 'type': 'audio_features', 'id': '4tyl9OMKMG8F2L0RUYQMH3', 'uri': 'spotify:track:4tyl9OMKMG8F2L0RUYQMH3', 'track_href': 'https://api.spotify.com/v1/tracks/4tyl9OMKMG8F2L0RUYQMH3', 'analysis_url': 'https://api.spotify.com/v1/audio-analysis/4tyl9OMKMG8F2L0RUYQMH3', 'duration_ms': 249960, 'time_signature': 4}\n",
      "{'id_key': 83, 'danceability': 0.684, 'energy': 0.64, 'key': 5, 'loudness': -9.906, 'mode': 0, 'speechiness': 0.0309, 'acousticness': 0.221, 'instrumentalness': 0.0102, 'liveness': 0.179, 'valence': 0.777, 'tempo': 106.023, 'type': 'audio_features', 'id': '7e176FKv7cq6SG9EXYMLoQ', 'uri': 'spotify:track:7e176FKv7cq6SG9EXYMLoQ', 'track_href': 'https://api.spotify.com/v1/tracks/7e176FKv7cq6SG9EXYMLoQ', 'analysis_url': 'https://api.spotify.com/v1/audio-analysis/7e176FKv7cq6SG9EXYMLoQ', 'duration_ms': 234267, 'time_signature': 4}\n",
      "{'id_key': 84, 'danceability': 0.862, 'energy': 0.624, 'key': 3, 'loudness': -11.63, 'mode': 1, 'speechiness': 0.0565, 'acousticness': 0.0192, 'instrumentalness': 0.000153, 'liveness': 0.0465, 'valence': 0.882, 'tempo': 124.896, 'type': 'audio_features', 'id': '3yDhZq8f17SmumVmEyCaRN', 'uri': 'spotify:track:3yDhZq8f17SmumVmEyCaRN', 'track_href': 'https://api.spotify.com/v1/tracks/3yDhZq8f17SmumVmEyCaRN', 'analysis_url': 'https://api.spotify.com/v1/audio-analysis/3yDhZq8f17SmumVmEyCaRN', 'duration_ms': 254240, 'time_signature': 4}\n",
      "{'id_key': 85, 'danceability': 0.677, 'energy': 0.616, 'key': 10, 'loudness': -13.826, 'mode': 1, 'speechiness': 0.032, 'acousticness': 0.458, 'instrumentalness': 0.0132, 'liveness': 0.349, 'valence': 0.851, 'tempo': 114.223, 'type': 'audio_features', 'id': '2aEuA8PSqLa17Y4hKPj5rr', 'uri': 'spotify:track:2aEuA8PSqLa17Y4hKPj5rr', 'track_href': 'https://api.spotify.com/v1/tracks/2aEuA8PSqLa17Y4hKPj5rr', 'analysis_url': 'https://api.spotify.com/v1/audio-analysis/2aEuA8PSqLa17Y4hKPj5rr', 'duration_ms': 226333, 'time_signature': 4}\n",
      "{'id_key': 86, 'danceability': 0.783, 'energy': 0.836, 'key': 0, 'loudness': -9.223, 'mode': 0, 'speechiness': 0.0486, 'acousticness': 0.396, 'instrumentalness': 0.0236, 'liveness': 0.135, 'valence': 0.831, 'tempo': 108.966, 'type': 'audio_features', 'id': '5zWZ9iNevP0397xB3jWV2z', 'uri': 'spotify:track:5zWZ9iNevP0397xB3jWV2z', 'track_href': 'https://api.spotify.com/v1/tracks/5zWZ9iNevP0397xB3jWV2z', 'analysis_url': 'https://api.spotify.com/v1/audio-analysis/5zWZ9iNevP0397xB3jWV2z', 'duration_ms': 222667, 'time_signature': 4}\n",
      "{'id_key': 87, 'danceability': 0.797, 'energy': 0.468, 'key': 2, 'loudness': -9.28, 'mode': 0, 'speechiness': 0.0278, 'acousticness': 0.6, 'instrumentalness': 2.98e-05, 'liveness': 0.0623, 'valence': 0.628, 'tempo': 108.628, 'type': 'audio_features', 'id': '3DZnc4lcqJF8FJmRbjrmA0', 'uri': 'spotify:track:3DZnc4lcqJF8FJmRbjrmA0', 'track_href': 'https://api.spotify.com/v1/tracks/3DZnc4lcqJF8FJmRbjrmA0', 'analysis_url': 'https://api.spotify.com/v1/audio-analysis/3DZnc4lcqJF8FJmRbjrmA0', 'duration_ms': 248440, 'time_signature': 4}\n",
      "{'id_key': 88, 'danceability': 0.78, 'energy': 0.551, 'key': 5, 'loudness': -13.038, 'mode': 0, 'speechiness': 0.0625, 'acousticness': 0.0613, 'instrumentalness': 0.104, 'liveness': 0.0331, 'valence': 0.969, 'tempo': 126.009, 'type': 'audio_features', 'id': '1X4gWy941yRMvafHs4n2sQ', 'uri': 'spotify:track:1X4gWy941yRMvafHs4n2sQ', 'track_href': 'https://api.spotify.com/v1/tracks/1X4gWy941yRMvafHs4n2sQ', 'analysis_url': 'https://api.spotify.com/v1/audio-analysis/1X4gWy941yRMvafHs4n2sQ', 'duration_ms': 491933, 'time_signature': 4}\n",
      "{'id_key': 89, 'danceability': 0.832, 'energy': 0.553, 'key': 7, 'loudness': -13.705, 'mode': 1, 'speechiness': 0.0487, 'acousticness': 0.0422, 'instrumentalness': 0.00356, 'liveness': 0.249, 'valence': 0.89, 'tempo': 119.825, 'type': 'audio_features', 'id': '6Lphpr9Z6H282Sguw0dUWa', 'uri': 'spotify:track:6Lphpr9Z6H282Sguw0dUWa', 'track_href': 'https://api.spotify.com/v1/tracks/6Lphpr9Z6H282Sguw0dUWa', 'analysis_url': 'https://api.spotify.com/v1/audio-analysis/6Lphpr9Z6H282Sguw0dUWa', 'duration_ms': 215693, 'time_signature': 4}\n",
      "{'id_key': 90, 'danceability': 0.798, 'energy': 0.746, 'key': 10, 'loudness': -8.639, 'mode': 1, 'speechiness': 0.0313, 'acousticness': 0.0304, 'instrumentalness': 0.361, 'liveness': 0.0703, 'valence': 0.965, 'tempo': 128.553, 'type': 'audio_features', 'id': '1QqsAlhs7pxcXs9BMB1Nv5', 'uri': 'spotify:track:1QqsAlhs7pxcXs9BMB1Nv5', 'track_href': 'https://api.spotify.com/v1/tracks/1QqsAlhs7pxcXs9BMB1Nv5', 'analysis_url': 'https://api.spotify.com/v1/audio-analysis/1QqsAlhs7pxcXs9BMB1Nv5', 'duration_ms': 655213, 'time_signature': 4}\n",
      "{'id_key': 91, 'danceability': 0.651, 'energy': 0.811, 'key': 10, 'loudness': -13.87, 'mode': 1, 'speechiness': 0.0318, 'acousticness': 0.0648, 'instrumentalness': 0.0293, 'liveness': 0.1, 'valence': 0.962, 'tempo': 112.126, 'type': 'audio_features', 'id': '6VuIKS2Z27jCutIapgCUZF', 'uri': 'spotify:track:6VuIKS2Z27jCutIapgCUZF', 'track_href': 'https://api.spotify.com/v1/tracks/6VuIKS2Z27jCutIapgCUZF', 'analysis_url': 'https://api.spotify.com/v1/audio-analysis/6VuIKS2Z27jCutIapgCUZF', 'duration_ms': 186573, 'time_signature': 4}\n",
      "{'id_key': 92, 'danceability': 0.705, 'energy': 0.847, 'key': 6, 'loudness': -2.588, 'mode': 1, 'speechiness': 0.0361, 'acousticness': 0.414, 'instrumentalness': 3.21e-06, 'liveness': 0.406, 'valence': 0.743, 'tempo': 120.527, 'type': 'audio_features', 'id': '7sMGwiS4vOMcz86ZY3vKYM', 'uri': 'spotify:track:7sMGwiS4vOMcz86ZY3vKYM', 'track_href': 'https://api.spotify.com/v1/tracks/7sMGwiS4vOMcz86ZY3vKYM', 'analysis_url': 'https://api.spotify.com/v1/audio-analysis/7sMGwiS4vOMcz86ZY3vKYM', 'duration_ms': 228120, 'time_signature': 4}\n",
      "{'id_key': 93, 'danceability': 0.819, 'energy': 0.811, 'key': 6, 'loudness': -7.76, 'mode': 0, 'speechiness': 0.0349, 'acousticness': 0.203, 'instrumentalness': 0.00558, 'liveness': 0.139, 'valence': 0.766, 'tempo': 106.684, 'type': 'audio_features', 'id': '4JsQkSOE4taeyhH3pv1een', 'uri': 'spotify:track:4JsQkSOE4taeyhH3pv1een', 'track_href': 'https://api.spotify.com/v1/tracks/4JsQkSOE4taeyhH3pv1een', 'analysis_url': 'https://api.spotify.com/v1/audio-analysis/4JsQkSOE4taeyhH3pv1een', 'duration_ms': 246760, 'time_signature': 4}\n",
      "{'id_key': 94, 'danceability': 0.656, 'energy': 0.9, 'key': 5, 'loudness': -9.583, 'mode': 0, 'speechiness': 0.0354, 'acousticness': 0.0791, 'instrumentalness': 0.00142, 'liveness': 0.354, 'valence': 0.947, 'tempo': 108.698, 'type': 'audio_features', 'id': '3P2zU7fEjnZRunH124QnJL', 'uri': 'spotify:track:3P2zU7fEjnZRunH124QnJL', 'track_href': 'https://api.spotify.com/v1/tracks/3P2zU7fEjnZRunH124QnJL', 'analysis_url': 'https://api.spotify.com/v1/audio-analysis/3P2zU7fEjnZRunH124QnJL', 'duration_ms': 183667, 'time_signature': 4}\n"
     ]
    }
   ],
   "source": [
    "#Uploading the Json data to the database.\n",
    "for j in range(len(dataset['audio_features'])):\n",
    "    response = requests.put(url = Base + \"song/\" + str(j), headers=header, data = json.dumps(dataset['audio_features'][j]))\n",
    "    print(response.json())"
   ]
  },
  {
   "cell_type": "markdown",
   "metadata": {},
   "source": [
    "##### Getting data by passing the id from the database"
   ]
  },
  {
   "cell_type": "code",
   "execution_count": 39,
   "metadata": {},
   "outputs": [
    {
     "name": "stdout",
     "output_type": "stream",
     "text": [
      "{'id_key': 21, 'danceability': 0.247, 'energy': 0.992, 'key': 8, 'loudness': -7.766, 'mode': 0, 'speechiness': 0.0772, 'acousticness': 2.85e-05, 'instrumentalness': 0.799, 'liveness': 0.0808, 'valence': 0.318, 'tempo': 142.891, 'type': 'audio_features', 'id': '27zu28YulIo7buGdzgN0bm', 'uri': 'spotify:track:27zu28YulIo7buGdzgN0bm', 'track_href': 'https://api.spotify.com/v1/tracks/27zu28YulIo7buGdzgN0bm', 'analysis_url': 'https://api.spotify.com/v1/audio-analysis/27zu28YulIo7buGdzgN0bm', 'duration_ms': 237093, 'time_signature': 4}\n"
     ]
    }
   ],
   "source": [
    "#Retrieving the data from database\n",
    "response = requests.get(url = Base + \"song/\" + '21')\n",
    "print(response.json())"
   ]
  },
  {
   "cell_type": "markdown",
   "metadata": {},
   "source": [
    "#### Using same id to get data from the Json file to compare"
   ]
  },
  {
   "cell_type": "code",
   "execution_count": 40,
   "metadata": {},
   "outputs": [
    {
     "data": {
      "text/plain": [
       "{'danceability': 0.247,\n",
       " 'energy': 0.992,\n",
       " 'key': 8,\n",
       " 'loudness': -7.766,\n",
       " 'mode': 0,\n",
       " 'speechiness': 0.0772,\n",
       " 'acousticness': 2.85e-05,\n",
       " 'instrumentalness': 0.799,\n",
       " 'liveness': 0.0808,\n",
       " 'valence': 0.318,\n",
       " 'tempo': 142.891,\n",
       " 'type': 'audio_features',\n",
       " 'id': '27zu28YulIo7buGdzgN0bm',\n",
       " 'uri': 'spotify:track:27zu28YulIo7buGdzgN0bm',\n",
       " 'track_href': 'https://api.spotify.com/v1/tracks/27zu28YulIo7buGdzgN0bm',\n",
       " 'analysis_url': 'https://api.spotify.com/v1/audio-analysis/27zu28YulIo7buGdzgN0bm',\n",
       " 'duration_ms': 237093,\n",
       " 'time_signature': 4}"
      ]
     },
     "execution_count": 40,
     "metadata": {},
     "output_type": "execute_result"
    }
   ],
   "source": [
    "#imported Json data from the file\n",
    "dataset['audio_features'][21]"
   ]
  },
  {
   "cell_type": "markdown",
   "metadata": {},
   "source": [
    "#### Updating the data in the database by passing the id"
   ]
  },
  {
   "cell_type": "code",
   "execution_count": 41,
   "metadata": {},
   "outputs": [
    {
     "name": "stdout",
     "output_type": "stream",
     "text": [
      "{'id_key': 21, 'danceability': 0.247, 'energy': 0.992, 'key': 8, 'loudness': -7.766, 'mode': 1, 'speechiness': 0.0772, 'acousticness': 2.85e-05, 'instrumentalness': 0.799, 'liveness': 0.0808, 'valence': 0.424, 'tempo': 142.891, 'type': 'audio', 'id': '27zu28YulIo7buGdzgN0bm', 'uri': 'spotify:track:27zu28YulIo7buGdzgN0bm', 'track_href': 'https://api.spotify.com/v1/tracks/27zu28YulIo7buGdzgN0bm', 'analysis_url': 'https://api.spotify.com/v1/audio-analysis/27zu28YulIo7buGdzgN0bm', 'duration_ms': 237093, 'time_signature': 4}\n"
     ]
    }
   ],
   "source": [
    "#updating the data in the database by passing the song id and the updated information\n",
    "data_patch = {\"mode\": 1, \"valence\": 0.424, \"type\": \"audio\"}\n",
    "response_patch = requests.patch(url = Base + \"song/\" + '21', headers=header, data = json.dumps(data_patch))\n",
    "print(response_patch.json())"
   ]
  },
  {
   "cell_type": "markdown",
   "metadata": {},
   "source": [
    "##### Getting data by passing the id from the database to check the updation"
   ]
  },
  {
   "cell_type": "code",
   "execution_count": 42,
   "metadata": {},
   "outputs": [
    {
     "name": "stdout",
     "output_type": "stream",
     "text": [
      "{'id_key': 21, 'danceability': 0.247, 'energy': 0.992, 'key': 8, 'loudness': -7.766, 'mode': 1, 'speechiness': 0.0772, 'acousticness': 2.85e-05, 'instrumentalness': 0.799, 'liveness': 0.0808, 'valence': 0.424, 'tempo': 142.891, 'type': 'audio', 'id': '27zu28YulIo7buGdzgN0bm', 'uri': 'spotify:track:27zu28YulIo7buGdzgN0bm', 'track_href': 'https://api.spotify.com/v1/tracks/27zu28YulIo7buGdzgN0bm', 'analysis_url': 'https://api.spotify.com/v1/audio-analysis/27zu28YulIo7buGdzgN0bm', 'duration_ms': 237093, 'time_signature': 4}\n"
     ]
    }
   ],
   "source": [
    "#Retrieving the data from database after updating the data.\n",
    "response = requests.get(url = Base + \"song/\" + '21')\n",
    "print(response.json())"
   ]
  },
  {
   "cell_type": "markdown",
   "metadata": {},
   "source": [
    "#### Getting the full data from the database"
   ]
  },
  {
   "cell_type": "code",
   "execution_count": 43,
   "metadata": {},
   "outputs": [
    {
     "name": "stdout",
     "output_type": "stream",
     "text": [
      "{'id_key': 0, 'danceability': 0.357, 'energy': 0.98, 'key': 6, 'loudness': -6.835, 'mode': 1, 'speechiness': 0.079, 'acousticness': 5.22e-05, 'instrumentalness': 0.843, 'liveness': 0.0768, 'valence': 0.368, 'tempo': 96.969, 'type': 'audio_features', 'id': '4pFC6tuWErxbO61oFFq3BQ', 'uri': 'spotify:track:4pFC6tuWErxbO61oFFq3BQ', 'track_href': 'https://api.spotify.com/v1/tracks/4pFC6tuWErxbO61oFFq3BQ', 'analysis_url': 'https://api.spotify.com/v1/audio-analysis/4pFC6tuWErxbO61oFFq3BQ', 'duration_ms': 242760, 'time_signature': 4}\n",
      "{'id_key': 1, 'danceability': 0.446, 'energy': 0.977, 'key': 10, 'loudness': -5.036, 'mode': 0, 'speechiness': 0.0781, 'acousticness': 0.000535, 'instrumentalness': 0.472, 'liveness': 0.105, 'valence': 0.339, 'tempo': 172.059, 'type': 'audio_features', 'id': '6V3SNkvi4BnfmZU0j7s9TQ', 'uri': 'spotify:track:6V3SNkvi4BnfmZU0j7s9TQ', 'track_href': 'https://api.spotify.com/v1/tracks/6V3SNkvi4BnfmZU0j7s9TQ', 'analysis_url': 'https://api.spotify.com/v1/audio-analysis/6V3SNkvi4BnfmZU0j7s9TQ', 'duration_ms': 284400, 'time_signature': 4}\n",
      "{'id_key': 2, 'danceability': 0.291, 'energy': 0.98, 'key': 1, 'loudness': -5.138, 'mode': 1, 'speechiness': 0.153, 'acousticness': 0.00127, 'instrumentalness': 0.091, 'liveness': 0.102, 'valence': 0.257, 'tempo': 79.792, 'type': 'audio_features', 'id': '1Ds58cpyJzL0YTKk02vh1C', 'uri': 'spotify:track:1Ds58cpyJzL0YTKk02vh1C', 'track_href': 'https://api.spotify.com/v1/tracks/1Ds58cpyJzL0YTKk02vh1C', 'analysis_url': 'https://api.spotify.com/v1/audio-analysis/1Ds58cpyJzL0YTKk02vh1C', 'duration_ms': 270920, 'time_signature': 4}\n",
      "{'id_key': 3, 'danceability': 0.462, 'energy': 0.974, 'key': 1, 'loudness': -5.82, 'mode': 1, 'speechiness': 0.0816, 'acousticness': 2.94e-05, 'instrumentalness': 0.723, 'liveness': 0.0751, 'valence': 0.399, 'tempo': 107.877, 'type': 'audio_features', 'id': '77QKNMGwlnzxsTZPYfByMu', 'uri': 'spotify:track:77QKNMGwlnzxsTZPYfByMu', 'track_href': 'https://api.spotify.com/v1/tracks/77QKNMGwlnzxsTZPYfByMu', 'analysis_url': 'https://api.spotify.com/v1/audio-analysis/77QKNMGwlnzxsTZPYfByMu', 'duration_ms': 186576, 'time_signature': 3}\n",
      "{'id_key': 4, 'danceability': 0.338, 'energy': 0.988, 'key': 8, 'loudness': -7.29, 'mode': 0, 'speechiness': 0.0865, 'acousticness': 8.35e-05, 'instrumentalness': 0.833, 'liveness': 0.0377, 'valence': 0.449, 'tempo': 99.046, 'type': 'audio_features', 'id': '3bQoMbPYOvvseHaSOWAQ3Q', 'uri': 'spotify:track:3bQoMbPYOvvseHaSOWAQ3Q', 'track_href': 'https://api.spotify.com/v1/tracks/3bQoMbPYOvvseHaSOWAQ3Q', 'analysis_url': 'https://api.spotify.com/v1/audio-analysis/3bQoMbPYOvvseHaSOWAQ3Q', 'duration_ms': 221960, 'time_signature': 4}\n",
      "{'id_key': 5, 'danceability': 0.256, 'energy': 0.952, 'key': 7, 'loudness': -8.631, 'mode': 0, 'speechiness': 0.103, 'acousticness': 2.19e-05, 'instrumentalness': 0.587, 'liveness': 0.135, 'valence': 0.0724, 'tempo': 144.481, 'type': 'audio_features', 'id': '1sWcWDgthOikmqaHdfTfW2', 'uri': 'spotify:track:1sWcWDgthOikmqaHdfTfW2', 'track_href': 'https://api.spotify.com/v1/tracks/1sWcWDgthOikmqaHdfTfW2', 'analysis_url': 'https://api.spotify.com/v1/audio-analysis/1sWcWDgthOikmqaHdfTfW2', 'duration_ms': 206120, 'time_signature': 4}\n",
      "{'id_key': 6, 'danceability': 0.373, 'energy': 0.98, 'key': 1, 'loudness': -5.016, 'mode': 0, 'speechiness': 0.122, 'acousticness': 0.000319, 'instrumentalness': 0.906, 'liveness': 0.105, 'valence': 0.34, 'tempo': 97.346, 'type': 'audio_features', 'id': '10nOWGyxyXW42t9NH6BNSS', 'uri': 'spotify:track:10nOWGyxyXW42t9NH6BNSS', 'track_href': 'https://api.spotify.com/v1/tracks/10nOWGyxyXW42t9NH6BNSS', 'analysis_url': 'https://api.spotify.com/v1/audio-analysis/10nOWGyxyXW42t9NH6BNSS', 'duration_ms': 211947, 'time_signature': 4}\n",
      "{'id_key': 7, 'danceability': 0.13, 'energy': 0.947, 'key': 8, 'loudness': -5.888, 'mode': 1, 'speechiness': 0.095, 'acousticness': 2.45e-05, 'instrumentalness': 0.368, 'liveness': 0.0453, 'valence': 0.334, 'tempo': 60.631, 'type': 'audio_features', 'id': '5WGvXmLt6acluR7TfhlHUH', 'uri': 'spotify:track:5WGvXmLt6acluR7TfhlHUH', 'track_href': 'https://api.spotify.com/v1/tracks/5WGvXmLt6acluR7TfhlHUH', 'analysis_url': 'https://api.spotify.com/v1/audio-analysis/5WGvXmLt6acluR7TfhlHUH', 'duration_ms': 272995, 'time_signature': 4}\n",
      "{'id_key': 8, 'danceability': 0.225, 'energy': 0.98, 'key': 6, 'loudness': -5.626, 'mode': 1, 'speechiness': 0.143, 'acousticness': 5.84e-06, 'instrumentalness': 0.86, 'liveness': 0.0653, 'valence': 0.105, 'tempo': 115.077, 'type': 'audio_features', 'id': '4YWg4PxJzMn84j7Fo32W4M', 'uri': 'spotify:track:4YWg4PxJzMn84j7Fo32W4M', 'track_href': 'https://api.spotify.com/v1/tracks/4YWg4PxJzMn84j7Fo32W4M', 'analysis_url': 'https://api.spotify.com/v1/audio-analysis/4YWg4PxJzMn84j7Fo32W4M', 'duration_ms': 285907, 'time_signature': 4}\n",
      "{'id_key': 9, 'danceability': 0.571, 'energy': 0.996, 'key': 10, 'loudness': -4.907, 'mode': 0, 'speechiness': 0.215, 'acousticness': 4.93e-05, 'instrumentalness': 0.601, 'liveness': 0.187, 'valence': 0.0468, 'tempo': 94.992, 'type': 'audio_features', 'id': '6m5EVmAlKhJwbQCT3xN5Kt', 'uri': 'spotify:track:6m5EVmAlKhJwbQCT3xN5Kt', 'track_href': 'https://api.spotify.com/v1/tracks/6m5EVmAlKhJwbQCT3xN5Kt', 'analysis_url': 'https://api.spotify.com/v1/audio-analysis/6m5EVmAlKhJwbQCT3xN5Kt', 'duration_ms': 211693, 'time_signature': 4}\n",
      "{'id_key': 10, 'danceability': 0.448, 'energy': 0.97, 'key': 1, 'loudness': -4.197, 'mode': 1, 'speechiness': 0.105, 'acousticness': 0.000428, 'instrumentalness': 0.912, 'liveness': 0.376, 'valence': 0.381, 'tempo': 119.215, 'type': 'audio_features', 'id': '6GjNQbnAPCFCxp45txPVfh', 'uri': 'spotify:track:6GjNQbnAPCFCxp45txPVfh', 'track_href': 'https://api.spotify.com/v1/tracks/6GjNQbnAPCFCxp45txPVfh', 'analysis_url': 'https://api.spotify.com/v1/audio-analysis/6GjNQbnAPCFCxp45txPVfh', 'duration_ms': 123880, 'time_signature': 4}\n",
      "{'id_key': 11, 'danceability': 0.363, 'energy': 0.994, 'key': 8, 'loudness': -5.781, 'mode': 1, 'speechiness': 0.131, 'acousticness': 3.69e-05, 'instrumentalness': 0.582, 'liveness': 0.207, 'valence': 0.139, 'tempo': 108.017, 'type': 'audio_features', 'id': '7tLevkJnFLOMtOOUmhznQa', 'uri': 'spotify:track:7tLevkJnFLOMtOOUmhznQa', 'track_href': 'https://api.spotify.com/v1/tracks/7tLevkJnFLOMtOOUmhznQa', 'analysis_url': 'https://api.spotify.com/v1/audio-analysis/7tLevkJnFLOMtOOUmhznQa', 'duration_ms': 247564, 'time_signature': 4}\n",
      "{'id_key': 12, 'danceability': 0.251, 'energy': 0.981, 'key': 10, 'loudness': -7.282, 'mode': 0, 'speechiness': 0.118, 'acousticness': 6.27e-05, 'instrumentalness': 0.729, 'liveness': 0.219, 'valence': 0.275, 'tempo': 99.338, 'type': 'audio_features', 'id': '6gP7mrmL9EsFS3sMpk3Ig3', 'uri': 'spotify:track:6gP7mrmL9EsFS3sMpk3Ig3', 'track_href': 'https://api.spotify.com/v1/tracks/6gP7mrmL9EsFS3sMpk3Ig3', 'analysis_url': 'https://api.spotify.com/v1/audio-analysis/6gP7mrmL9EsFS3sMpk3Ig3', 'duration_ms': 375307, 'time_signature': 4}\n",
      "{'id_key': 13, 'danceability': 0.297, 'energy': 0.993, 'key': 9, 'loudness': -7.173, 'mode': 1, 'speechiness': 0.118, 'acousticness': 5.66e-05, 'instrumentalness': 0.77, 'liveness': 0.0766, 'valence': 0.178, 'tempo': 127.693, 'type': 'audio_features', 'id': '1SEE3lvWDlSYVEySrrAfMs', 'uri': 'spotify:track:1SEE3lvWDlSYVEySrrAfMs', 'track_href': 'https://api.spotify.com/v1/tracks/1SEE3lvWDlSYVEySrrAfMs', 'analysis_url': 'https://api.spotify.com/v1/audio-analysis/1SEE3lvWDlSYVEySrrAfMs', 'duration_ms': 182427, 'time_signature': 4}\n",
      "{'id_key': 14, 'danceability': 0.297, 'energy': 0.973, 'key': 1, 'loudness': -4.505, 'mode': 1, 'speechiness': 0.151, 'acousticness': 0.00146, 'instrumentalness': 0.918, 'liveness': 0.139, 'valence': 0.234, 'tempo': 102.757, 'type': 'audio_features', 'id': '1zXTJp4mMwu2y69LajfzFK', 'uri': 'spotify:track:1zXTJp4mMwu2y69LajfzFK', 'track_href': 'https://api.spotify.com/v1/tracks/1zXTJp4mMwu2y69LajfzFK', 'analysis_url': 'https://api.spotify.com/v1/audio-analysis/1zXTJp4mMwu2y69LajfzFK', 'duration_ms': 170520, 'time_signature': 4}\n",
      "{'id_key': 15, 'danceability': 0.184, 'energy': 0.974, 'key': 8, 'loudness': -6.237, 'mode': 0, 'speechiness': 0.106, 'acousticness': 2.32e-05, 'instrumentalness': 0.886, 'liveness': 0.241, 'valence': 0.33, 'tempo': 93.771, 'type': 'audio_features', 'id': '107S1KOprUaRQqfI9nugxv', 'uri': 'spotify:track:107S1KOprUaRQqfI9nugxv', 'track_href': 'https://api.spotify.com/v1/tracks/107S1KOprUaRQqfI9nugxv', 'analysis_url': 'https://api.spotify.com/v1/audio-analysis/107S1KOprUaRQqfI9nugxv', 'duration_ms': 257390, 'time_signature': 3}\n",
      "{'id_key': 16, 'danceability': 0.358, 'energy': 0.977, 'key': 8, 'loudness': -8.179, 'mode': 0, 'speechiness': 0.0727, 'acousticness': 8.18e-05, 'instrumentalness': 0.924, 'liveness': 0.103, 'valence': 0.449, 'tempo': 137.681, 'type': 'audio_features', 'id': '42es8ZJzFiOvjLR1yv0Sn7', 'uri': 'spotify:track:42es8ZJzFiOvjLR1yv0Sn7', 'track_href': 'https://api.spotify.com/v1/tracks/42es8ZJzFiOvjLR1yv0Sn7', 'analysis_url': 'https://api.spotify.com/v1/audio-analysis/42es8ZJzFiOvjLR1yv0Sn7', 'duration_ms': 194160, 'time_signature': 4}\n",
      "{'id_key': 17, 'danceability': 0.266, 'energy': 0.986, 'key': 8, 'loudness': -8.346, 'mode': 0, 'speechiness': 0.166, 'acousticness': 0.000386, 'instrumentalness': 0.747, 'liveness': 0.43, 'valence': 0.302, 'tempo': 86.179, 'type': 'audio_features', 'id': '5ycOd8aYjGCIrDfLNKqmKW', 'uri': 'spotify:track:5ycOd8aYjGCIrDfLNKqmKW', 'track_href': 'https://api.spotify.com/v1/tracks/5ycOd8aYjGCIrDfLNKqmKW', 'analysis_url': 'https://api.spotify.com/v1/audio-analysis/5ycOd8aYjGCIrDfLNKqmKW', 'duration_ms': 245773, 'time_signature': 4}\n",
      "{'id_key': 18, 'danceability': 0.29, 'energy': 0.934, 'key': 10, 'loudness': -4.679, 'mode': 0, 'speechiness': 0.0962, 'acousticness': 0.000325, 'instrumentalness': 0.853, 'liveness': 0.453, 'valence': 0.18, 'tempo': 112.834, 'type': 'audio_features', 'id': '3SP4UoCeEfG8OUevkxbPlX', 'uri': 'spotify:track:3SP4UoCeEfG8OUevkxbPlX', 'track_href': 'https://api.spotify.com/v1/tracks/3SP4UoCeEfG8OUevkxbPlX', 'analysis_url': 'https://api.spotify.com/v1/audio-analysis/3SP4UoCeEfG8OUevkxbPlX', 'duration_ms': 225867, 'time_signature': 3}\n",
      "{'id_key': 19, 'danceability': 0.138, 'energy': 0.991, 'key': 8, 'loudness': -5.661, 'mode': 1, 'speechiness': 0.175, 'acousticness': 1.53e-05, 'instrumentalness': 0.831, 'liveness': 0.337, 'valence': 0.0718, 'tempo': 94.443, 'type': 'audio_features', 'id': '0HPmWGyYJ0xP1DYUWk8Fwm', 'uri': 'spotify:track:0HPmWGyYJ0xP1DYUWk8Fwm', 'track_href': 'https://api.spotify.com/v1/tracks/0HPmWGyYJ0xP1DYUWk8Fwm', 'analysis_url': 'https://api.spotify.com/v1/audio-analysis/0HPmWGyYJ0xP1DYUWk8Fwm', 'duration_ms': 244239, 'time_signature': 1}\n",
      "{'id_key': 20, 'danceability': 0.25, 'energy': 0.982, 'key': 1, 'loudness': -7.911, 'mode': 0, 'speechiness': 0.145, 'acousticness': 5.81e-05, 'instrumentalness': 0.000151, 'liveness': 0.171, 'valence': 0.166, 'tempo': 136.707, 'type': 'audio_features', 'id': '5HRWatW5cXb8Ufy3An0LeS', 'uri': 'spotify:track:5HRWatW5cXb8Ufy3An0LeS', 'track_href': 'https://api.spotify.com/v1/tracks/5HRWatW5cXb8Ufy3An0LeS', 'analysis_url': 'https://api.spotify.com/v1/audio-analysis/5HRWatW5cXb8Ufy3An0LeS', 'duration_ms': 126333, 'time_signature': 4}\n",
      "{'id_key': 21, 'danceability': 0.247, 'energy': 0.992, 'key': 8, 'loudness': -7.766, 'mode': 1, 'speechiness': 0.0772, 'acousticness': 2.85e-05, 'instrumentalness': 0.799, 'liveness': 0.0808, 'valence': 0.424, 'tempo': 142.891, 'type': 'audio', 'id': '27zu28YulIo7buGdzgN0bm', 'uri': 'spotify:track:27zu28YulIo7buGdzgN0bm', 'track_href': 'https://api.spotify.com/v1/tracks/27zu28YulIo7buGdzgN0bm', 'analysis_url': 'https://api.spotify.com/v1/audio-analysis/27zu28YulIo7buGdzgN0bm', 'duration_ms': 237093, 'time_signature': 4}\n",
      "{'id_key': 22, 'danceability': 0.196, 'energy': 0.983, 'key': 8, 'loudness': -8.466, 'mode': 0, 'speechiness': 0.0818, 'acousticness': 3.05e-06, 'instrumentalness': 0.919, 'liveness': 0.0959, 'valence': 0.316, 'tempo': 179.661, 'type': 'audio_features', 'id': '4uy1mXLQUe6IW9BNUfZx15', 'uri': 'spotify:track:4uy1mXLQUe6IW9BNUfZx15', 'track_href': 'https://api.spotify.com/v1/tracks/4uy1mXLQUe6IW9BNUfZx15', 'analysis_url': 'https://api.spotify.com/v1/audio-analysis/4uy1mXLQUe6IW9BNUfZx15', 'duration_ms': 183827, 'time_signature': 4}\n",
      "{'id_key': 23, 'danceability': 0.454, 'energy': 0.968, 'key': 6, 'loudness': -6.289, 'mode': 1, 'speechiness': 0.0787, 'acousticness': 1.73e-05, 'instrumentalness': 0.338, 'liveness': 0.0472, 'valence': 0.535, 'tempo': 103.965, 'type': 'audio_features', 'id': '3iZOVTPjyUEq9f5HsUQCj7', 'uri': 'spotify:track:3iZOVTPjyUEq9f5HsUQCj7', 'track_href': 'https://api.spotify.com/v1/tracks/3iZOVTPjyUEq9f5HsUQCj7', 'analysis_url': 'https://api.spotify.com/v1/audio-analysis/3iZOVTPjyUEq9f5HsUQCj7', 'duration_ms': 250262, 'time_signature': 4}\n",
      "{'id_key': 24, 'danceability': 0.245, 'energy': 0.915, 'key': 1, 'loudness': -8.992, 'mode': 1, 'speechiness': 0.0718, 'acousticness': 9.86e-05, 'instrumentalness': 0.704, 'liveness': 0.633, 'valence': 0.482, 'tempo': 101.017, 'type': 'audio_features', 'id': '67gauLFb25vQYR7qMhNnTT', 'uri': 'spotify:track:67gauLFb25vQYR7qMhNnTT', 'track_href': 'https://api.spotify.com/v1/tracks/67gauLFb25vQYR7qMhNnTT', 'analysis_url': 'https://api.spotify.com/v1/audio-analysis/67gauLFb25vQYR7qMhNnTT', 'duration_ms': 228733, 'time_signature': 3}\n",
      "{'id_key': 25, 'danceability': 0.794, 'energy': 0.659, 'key': 7, 'loudness': -7.063, 'mode': 0, 'speechiness': 0.0498, 'acousticness': 0.143, 'instrumentalness': 0.00224, 'liveness': 0.0944, 'valence': 0.308, 'tempo': 112.019, 'type': 'audio_features', 'id': '6hzi3AGB39FjxFqcjgbWs7', 'uri': 'spotify:track:6hzi3AGB39FjxFqcjgbWs7', 'track_href': 'https://api.spotify.com/v1/tracks/6hzi3AGB39FjxFqcjgbWs7', 'analysis_url': 'https://api.spotify.com/v1/audio-analysis/6hzi3AGB39FjxFqcjgbWs7', 'duration_ms': 247460, 'time_signature': 4}\n",
      "{'id_key': 26, 'danceability': 0.777, 'energy': 0.698, 'key': 6, 'loudness': -7.706, 'mode': 0, 'speechiness': 0.0704, 'acousticness': 0.293, 'instrumentalness': 2.32e-05, 'liveness': 0.0908, 'valence': 0.119, 'tempo': 119.963, 'type': 'audio_features', 'id': '6VSaNvPPagk4U5Skxp6XfV', 'uri': 'spotify:track:6VSaNvPPagk4U5Skxp6XfV', 'track_href': 'https://api.spotify.com/v1/tracks/6VSaNvPPagk4U5Skxp6XfV', 'analysis_url': 'https://api.spotify.com/v1/audio-analysis/6VSaNvPPagk4U5Skxp6XfV', 'duration_ms': 247161, 'time_signature': 4}\n",
      "{'id_key': 27, 'danceability': 0.592, 'energy': 0.371, 'key': 9, 'loudness': -9.965, 'mode': 0, 'speechiness': 0.0437, 'acousticness': 0.4, 'instrumentalness': 0.000367, 'liveness': 0.0953, 'valence': 0.197, 'tempo': 127.966, 'type': 'audio_features', 'id': '1gVnckXtTdCoLwtiPPqlQS', 'uri': 'spotify:track:1gVnckXtTdCoLwtiPPqlQS', 'track_href': 'https://api.spotify.com/v1/tracks/1gVnckXtTdCoLwtiPPqlQS', 'analysis_url': 'https://api.spotify.com/v1/audio-analysis/1gVnckXtTdCoLwtiPPqlQS', 'duration_ms': 316546, 'time_signature': 4}\n",
      "{'id_key': 28, 'danceability': 0.729, 'energy': 0.533, 'key': 9, 'loudness': -10.104, 'mode': 0, 'speechiness': 0.444, 'acousticness': 0.747, 'instrumentalness': 4.54e-06, 'liveness': 0.0848, 'valence': 0.422, 'tempo': 155.999, 'type': 'audio_features', 'id': '1w2OwBeojIZI8hTI5WkMkV', 'uri': 'spotify:track:1w2OwBeojIZI8hTI5WkMkV', 'track_href': 'https://api.spotify.com/v1/tracks/1w2OwBeojIZI8hTI5WkMkV', 'analysis_url': 'https://api.spotify.com/v1/audio-analysis/1w2OwBeojIZI8hTI5WkMkV', 'duration_ms': 225953, 'time_signature': 4}\n",
      "{'id_key': 29, 'danceability': 0.798, 'energy': 0.564, 'key': 2, 'loudness': -5.98, 'mode': 1, 'speechiness': 0.047, 'acousticness': 0.23, 'instrumentalness': 1.83e-05, 'liveness': 0.183, 'valence': 0.394, 'tempo': 108.004, 'type': 'audio_features', 'id': '295SxdR1DqunCNwd0U767w', 'uri': 'spotify:track:295SxdR1DqunCNwd0U767w', 'track_href': 'https://api.spotify.com/v1/tracks/295SxdR1DqunCNwd0U767w', 'analysis_url': 'https://api.spotify.com/v1/audio-analysis/295SxdR1DqunCNwd0U767w', 'duration_ms': 254218, 'time_signature': 4}\n",
      "{'id_key': 30, 'danceability': 0.826, 'energy': 0.76, 'key': 11, 'loudness': -6.382, 'mode': 0, 'speechiness': 0.117, 'acousticness': 0.392, 'instrumentalness': 0.0, 'liveness': 0.132, 'valence': 0.813, 'tempo': 99.974, 'type': 'audio_features', 'id': '6YHnhfw8yMCx4vZvsgem3D', 'uri': 'spotify:track:6YHnhfw8yMCx4vZvsgem3D', 'track_href': 'https://api.spotify.com/v1/tracks/6YHnhfw8yMCx4vZvsgem3D', 'analysis_url': 'https://api.spotify.com/v1/audio-analysis/6YHnhfw8yMCx4vZvsgem3D', 'duration_ms': 216285, 'time_signature': 4}\n",
      "{'id_key': 31, 'danceability': 0.784, 'energy': 0.7, 'key': 7, 'loudness': -7.649, 'mode': 0, 'speechiness': 0.108, 'acousticness': 0.491, 'instrumentalness': 0.0, 'liveness': 0.108, 'valence': 0.769, 'tempo': 82.028, 'type': 'audio_features', 'id': '00X2yv2vrtritPt2CZnUTZ', 'uri': 'spotify:track:00X2yv2vrtritPt2CZnUTZ', 'track_href': 'https://api.spotify.com/v1/tracks/00X2yv2vrtritPt2CZnUTZ', 'analysis_url': 'https://api.spotify.com/v1/audio-analysis/00X2yv2vrtritPt2CZnUTZ', 'duration_ms': 190067, 'time_signature': 4}\n",
      "{'id_key': 32, 'danceability': 0.539, 'energy': 0.487, 'key': 1, 'loudness': -9.653, 'mode': 1, 'speechiness': 0.202, 'acousticness': 0.309, 'instrumentalness': 0.0, 'liveness': 0.097, 'valence': 0.375, 'tempo': 169.985, 'type': 'audio_features', 'id': '0vfB1HhL36tfV8q6LLKtgo', 'uri': 'spotify:track:0vfB1HhL36tfV8q6LLKtgo', 'track_href': 'https://api.spotify.com/v1/tracks/0vfB1HhL36tfV8q6LLKtgo', 'analysis_url': 'https://api.spotify.com/v1/audio-analysis/0vfB1HhL36tfV8q6LLKtgo', 'duration_ms': 186353, 'time_signature': 4}\n",
      "{'id_key': 33, 'danceability': 0.688, 'energy': 0.569, 'key': 10, 'loudness': -7.007, 'mode': 0, 'speechiness': 0.0375, 'acousticness': 0.392, 'instrumentalness': 0.000175, 'liveness': 0.12, 'valence': 0.359, 'tempo': 109.041, 'type': 'audio_features', 'id': '4GCIYE1x1TWJCChPkpy9by', 'uri': 'spotify:track:4GCIYE1x1TWJCChPkpy9by', 'track_href': 'https://api.spotify.com/v1/tracks/4GCIYE1x1TWJCChPkpy9by', 'analysis_url': 'https://api.spotify.com/v1/audio-analysis/4GCIYE1x1TWJCChPkpy9by', 'duration_ms': 252373, 'time_signature': 4}\n",
      "{'id_key': 34, 'danceability': 0.745, 'energy': 0.456, 'key': 8, 'loudness': -9.482, 'mode': 1, 'speechiness': 0.0874, 'acousticness': 0.44, 'instrumentalness': 0.0, 'liveness': 0.072, 'valence': 0.124, 'tempo': 94.032, 'type': 'audio_features', 'id': '5n9NAd0Y5OUeOGU0nVtLua', 'uri': 'spotify:track:5n9NAd0Y5OUeOGU0nVtLua', 'track_href': 'https://api.spotify.com/v1/tracks/5n9NAd0Y5OUeOGU0nVtLua', 'analysis_url': 'https://api.spotify.com/v1/audio-analysis/5n9NAd0Y5OUeOGU0nVtLua', 'duration_ms': 314367, 'time_signature': 4}\n",
      "{'id_key': 35, 'danceability': 0.779, 'energy': 0.705, 'key': 4, 'loudness': -7.834, 'mode': 0, 'speechiness': 0.0827, 'acousticness': 0.277, 'instrumentalness': 0.0, 'liveness': 0.0804, 'valence': 0.228, 'tempo': 103.048, 'type': 'audio_features', 'id': '4LAGHmHcSt0HHwXCJcFri6', 'uri': 'spotify:track:4LAGHmHcSt0HHwXCJcFri6', 'track_href': 'https://api.spotify.com/v1/tracks/4LAGHmHcSt0HHwXCJcFri6', 'analysis_url': 'https://api.spotify.com/v1/audio-analysis/4LAGHmHcSt0HHwXCJcFri6', 'duration_ms': 233597, 'time_signature': 4}\n",
      "{'id_key': 36, 'danceability': 0.609, 'energy': 0.517, 'key': 6, 'loudness': -7.557, 'mode': 0, 'speechiness': 0.0451, 'acousticness': 0.231, 'instrumentalness': 3.62e-05, 'liveness': 0.0777, 'valence': 0.0761, 'tempo': 120.914, 'type': 'audio_features', 'id': '0lkQfsTMmtDA37tjjew9n0', 'uri': 'spotify:track:0lkQfsTMmtDA37tjjew9n0', 'track_href': 'https://api.spotify.com/v1/tracks/0lkQfsTMmtDA37tjjew9n0', 'analysis_url': 'https://api.spotify.com/v1/audio-analysis/0lkQfsTMmtDA37tjjew9n0', 'duration_ms': 285627, 'time_signature': 4}\n",
      "{'id_key': 37, 'danceability': 0.715, 'energy': 0.682, 'key': 7, 'loudness': -7.714, 'mode': 1, 'speechiness': 0.1, 'acousticness': 0.325, 'instrumentalness': 4.2e-06, 'liveness': 0.0928, 'valence': 0.136, 'tempo': 103.037, 'type': 'audio_features', 'id': '5UOGzIMvxXyRZIWBbqDcpU', 'uri': 'spotify:track:5UOGzIMvxXyRZIWBbqDcpU', 'track_href': 'https://api.spotify.com/v1/tracks/5UOGzIMvxXyRZIWBbqDcpU', 'analysis_url': 'https://api.spotify.com/v1/audio-analysis/5UOGzIMvxXyRZIWBbqDcpU', 'duration_ms': 230013, 'time_signature': 4}\n",
      "{'id_key': 38, 'danceability': 0.656, 'energy': 0.381, 'key': 0, 'loudness': -8.757, 'mode': 0, 'speechiness': 0.0802, 'acousticness': 0.653, 'instrumentalness': 0.0, 'liveness': 0.116, 'valence': 0.166, 'tempo': 84.907, 'type': 'audio_features', 'id': '1gRMO4h3NGb1ZJA7TNdMPj', 'uri': 'spotify:track:1gRMO4h3NGb1ZJA7TNdMPj', 'track_href': 'https://api.spotify.com/v1/tracks/1gRMO4h3NGb1ZJA7TNdMPj', 'analysis_url': 'https://api.spotify.com/v1/audio-analysis/1gRMO4h3NGb1ZJA7TNdMPj', 'duration_ms': 325556, 'time_signature': 4}\n",
      "{'id_key': 39, 'danceability': 0.648, 'energy': 0.465, 'key': 6, 'loudness': -9.716, 'mode': 0, 'speechiness': 0.171, 'acousticness': 0.772, 'instrumentalness': 1.98e-06, 'liveness': 0.287, 'valence': 0.407, 'tempo': 103.025, 'type': 'audio_features', 'id': '7dn6WQzScfRGpp7XdTiCj0', 'uri': 'spotify:track:7dn6WQzScfRGpp7XdTiCj0', 'track_href': 'https://api.spotify.com/v1/tracks/7dn6WQzScfRGpp7XdTiCj0', 'analysis_url': 'https://api.spotify.com/v1/audio-analysis/7dn6WQzScfRGpp7XdTiCj0', 'duration_ms': 256281, 'time_signature': 4}\n",
      "{'id_key': 40, 'danceability': 0.734, 'energy': 0.425, 'key': 0, 'loudness': -9.773, 'mode': 1, 'speechiness': 0.0635, 'acousticness': 0.131, 'instrumentalness': 1.71e-05, 'liveness': 0.0726, 'valence': 0.235, 'tempo': 114.969, 'type': 'audio_features', 'id': '2lFWyfuXtCN8Sb7cHJILva', 'uri': 'spotify:track:2lFWyfuXtCN8Sb7cHJILva', 'track_href': 'https://api.spotify.com/v1/tracks/2lFWyfuXtCN8Sb7cHJILva', 'analysis_url': 'https://api.spotify.com/v1/audio-analysis/2lFWyfuXtCN8Sb7cHJILva', 'duration_ms': 268347, 'time_signature': 4}\n",
      "{'id_key': 41, 'danceability': 0.762, 'energy': 0.6, 'key': 5, 'loudness': -7.585, 'mode': 0, 'speechiness': 0.0909, 'acousticness': 0.542, 'instrumentalness': 0.0, 'liveness': 0.0841, 'valence': 0.39, 'tempo': 115.908, 'type': 'audio_features', 'id': '2jBleFNl3YK8lyJc1OvxXt', 'uri': 'spotify:track:2jBleFNl3YK8lyJc1OvxXt', 'track_href': 'https://api.spotify.com/v1/tracks/2jBleFNl3YK8lyJc1OvxXt', 'analysis_url': 'https://api.spotify.com/v1/audio-analysis/2jBleFNl3YK8lyJc1OvxXt', 'duration_ms': 352627, 'time_signature': 4}\n",
      "{'id_key': 42, 'danceability': 0.909, 'energy': 0.582, 'key': 7, 'loudness': -5.357, 'mode': 1, 'speechiness': 0.0665, 'acousticness': 0.0696, 'instrumentalness': 4.78e-05, 'liveness': 0.0984, 'valence': 0.844, 'tempo': 126.063, 'type': 'audio_features', 'id': '5gqh2FMBquUEwDsRUU4pCF', 'uri': 'spotify:track:5gqh2FMBquUEwDsRUU4pCF', 'track_href': 'https://api.spotify.com/v1/tracks/5gqh2FMBquUEwDsRUU4pCF', 'analysis_url': 'https://api.spotify.com/v1/audio-analysis/5gqh2FMBquUEwDsRUU4pCF', 'duration_ms': 249598, 'time_signature': 4}\n",
      "{'id_key': 43, 'danceability': 0.583, 'energy': 0.381, 'key': 9, 'loudness': -10.033, 'mode': 0, 'speechiness': 0.0429, 'acousticness': 0.416, 'instrumentalness': 0.000226, 'liveness': 0.0958, 'valence': 0.153, 'tempo': 127.667, 'type': 'audio_features', 'id': '6aH3QgooXRmx8k8jzrSm3V', 'uri': 'spotify:track:6aH3QgooXRmx8k8jzrSm3V', 'track_href': 'https://api.spotify.com/v1/tracks/6aH3QgooXRmx8k8jzrSm3V', 'analysis_url': 'https://api.spotify.com/v1/audio-analysis/6aH3QgooXRmx8k8jzrSm3V', 'duration_ms': 316378, 'time_signature': 4}\n",
      "{'id_key': 44, 'danceability': 0.803, 'energy': 0.624, 'key': 7, 'loudness': -6.764, 'mode': 0, 'speechiness': 0.0477, 'acousticness': 0.451, 'instrumentalness': 0.000734, 'liveness': 0.1, 'valence': 0.628, 'tempo': 95.968, 'type': 'audio_features', 'id': '1s3XtkdfT3obSCbQVWtvX9', 'uri': 'spotify:track:1s3XtkdfT3obSCbQVWtvX9', 'track_href': 'https://api.spotify.com/v1/tracks/1s3XtkdfT3obSCbQVWtvX9', 'analysis_url': 'https://api.spotify.com/v1/audio-analysis/1s3XtkdfT3obSCbQVWtvX9', 'duration_ms': 304524, 'time_signature': 4}\n",
      "{'id_key': 45, 'danceability': 0.213, 'energy': 0.0656, 'key': 7, 'loudness': -24.81, 'mode': 1, 'speechiness': 0.0467, 'acousticness': 0.992, 'instrumentalness': 0.969, 'liveness': 0.0699, 'valence': 0.0384, 'tempo': 65.023, 'type': 'audio_features', 'id': '3U8Fx7zNTQrctytkj6Gqgd', 'uri': 'spotify:track:3U8Fx7zNTQrctytkj6Gqgd', 'track_href': 'https://api.spotify.com/v1/tracks/3U8Fx7zNTQrctytkj6Gqgd', 'analysis_url': 'https://api.spotify.com/v1/audio-analysis/3U8Fx7zNTQrctytkj6Gqgd', 'duration_ms': 150147, 'time_signature': 3}\n",
      "{'id_key': 46, 'danceability': 0.701, 'energy': 0.341, 'key': 1, 'loudness': -12.26, 'mode': 0, 'speechiness': 0.0418, 'acousticness': 0.499, 'instrumentalness': 0.903, 'liveness': 0.359, 'valence': 0.163, 'tempo': 105.513, 'type': 'audio_features', 'id': '5xbuJuQsTVheVZvX2AJVIv', 'uri': 'spotify:track:5xbuJuQsTVheVZvX2AJVIv', 'track_href': 'https://api.spotify.com/v1/tracks/5xbuJuQsTVheVZvX2AJVIv', 'analysis_url': 'https://api.spotify.com/v1/audio-analysis/5xbuJuQsTVheVZvX2AJVIv', 'duration_ms': 151507, 'time_signature': 3}\n",
      "{'id_key': 47, 'danceability': 0.368, 'energy': 0.00363, 'key': 1, 'loudness': -36.759, 'mode': 1, 'speechiness': 0.035, 'acousticness': 0.993, 'instrumentalness': 0.922, 'liveness': 0.137, 'valence': 0.085, 'tempo': 69.363, 'type': 'audio_features', 'id': '1L4NadMj3Jj7YgGaikyhfr', 'uri': 'spotify:track:1L4NadMj3Jj7YgGaikyhfr', 'track_href': 'https://api.spotify.com/v1/tracks/1L4NadMj3Jj7YgGaikyhfr', 'analysis_url': 'https://api.spotify.com/v1/audio-analysis/1L4NadMj3Jj7YgGaikyhfr', 'duration_ms': 254000, 'time_signature': 3}\n",
      "{'id_key': 48, 'danceability': 0.191, 'energy': 0.0582, 'key': 8, 'loudness': -25.398, 'mode': 1, 'speechiness': 0.0578, 'acousticness': 0.961, 'instrumentalness': 0.89, 'liveness': 0.0941, 'valence': 0.0454, 'tempo': 132.614, 'type': 'audio_features', 'id': '3weNRklVDqb4Rr5MhKBR3D', 'uri': 'spotify:track:3weNRklVDqb4Rr5MhKBR3D', 'track_href': 'https://api.spotify.com/v1/tracks/3weNRklVDqb4Rr5MhKBR3D', 'analysis_url': 'https://api.spotify.com/v1/audio-analysis/3weNRklVDqb4Rr5MhKBR3D', 'duration_ms': 357707, 'time_signature': 1}\n",
      "{'id_key': 49, 'danceability': 0.261, 'energy': 0.0149, 'key': 1, 'loudness': -27.528, 'mode': 1, 'speechiness': 0.0419, 'acousticness': 0.992, 'instrumentalness': 0.897, 'liveness': 0.102, 'valence': 0.0382, 'tempo': 75.296, 'type': 'audio_features', 'id': '2d6ml9Qkx8r4EjuUyrdpRV', 'uri': 'spotify:track:2d6ml9Qkx8r4EjuUyrdpRV', 'track_href': 'https://api.spotify.com/v1/tracks/2d6ml9Qkx8r4EjuUyrdpRV', 'analysis_url': 'https://api.spotify.com/v1/audio-analysis/2d6ml9Qkx8r4EjuUyrdpRV', 'duration_ms': 286987, 'time_signature': 4}\n",
      "{'id_key': 50, 'danceability': 0.334, 'energy': 0.00732, 'key': 4, 'loudness': -30.908, 'mode': 0, 'speechiness': 0.0355, 'acousticness': 0.991, 'instrumentalness': 0.952, 'liveness': 0.0968, 'valence': 0.0964, 'tempo': 60.171, 'type': 'audio_features', 'id': '64LTn5fTsPR0QLy7bVYl9w', 'uri': 'spotify:track:64LTn5fTsPR0QLy7bVYl9w', 'track_href': 'https://api.spotify.com/v1/tracks/64LTn5fTsPR0QLy7bVYl9w', 'analysis_url': 'https://api.spotify.com/v1/audio-analysis/64LTn5fTsPR0QLy7bVYl9w', 'duration_ms': 241987, 'time_signature': 4}\n",
      "{'id_key': 51, 'danceability': 0.392, 'energy': 0.0536, 'key': 4, 'loudness': -23.399, 'mode': 1, 'speechiness': 0.0571, 'acousticness': 0.995, 'instrumentalness': 0.867, 'liveness': 0.0808, 'valence': 0.0417, 'tempo': 71.286, 'type': 'audio_features', 'id': '6YDgMoJ8ssOuKjQ6jiz4Kk', 'uri': 'spotify:track:6YDgMoJ8ssOuKjQ6jiz4Kk', 'track_href': 'https://api.spotify.com/v1/tracks/6YDgMoJ8ssOuKjQ6jiz4Kk', 'analysis_url': 'https://api.spotify.com/v1/audio-analysis/6YDgMoJ8ssOuKjQ6jiz4Kk', 'duration_ms': 234467, 'time_signature': 4}\n",
      "{'id_key': 52, 'danceability': 0.499, 'energy': 0.351, 'key': 9, 'loudness': -11.509, 'mode': 0, 'speechiness': 0.0448, 'acousticness': 0.951, 'instrumentalness': 9.94e-05, 'liveness': 0.118, 'valence': 0.616, 'tempo': 90.664, 'type': 'audio_features', 'id': '28XMNc5If5BmJWYDU42gkw', 'uri': 'spotify:track:28XMNc5If5BmJWYDU42gkw', 'track_href': 'https://api.spotify.com/v1/tracks/28XMNc5If5BmJWYDU42gkw', 'analysis_url': 'https://api.spotify.com/v1/audio-analysis/28XMNc5If5BmJWYDU42gkw', 'duration_ms': 235947, 'time_signature': 4}\n",
      "{'id_key': 53, 'danceability': 0.364, 'energy': 0.00799, 'key': 8, 'loudness': -33.09, 'mode': 1, 'speechiness': 0.0395, 'acousticness': 0.978, 'instrumentalness': 0.894, 'liveness': 0.109, 'valence': 0.0674, 'tempo': 101.226, 'type': 'audio_features', 'id': '1eqyKmkcp7b2s1PU9fEZRS', 'uri': 'spotify:track:1eqyKmkcp7b2s1PU9fEZRS', 'track_href': 'https://api.spotify.com/v1/tracks/1eqyKmkcp7b2s1PU9fEZRS', 'analysis_url': 'https://api.spotify.com/v1/audio-analysis/1eqyKmkcp7b2s1PU9fEZRS', 'duration_ms': 216093, 'time_signature': 4}\n",
      "{'id_key': 54, 'danceability': 0.205, 'energy': 0.129, 'key': 7, 'loudness': -18.197, 'mode': 1, 'speechiness': 0.0595, 'acousticness': 0.968, 'instrumentalness': 0.946, 'liveness': 0.101, 'valence': 0.296, 'tempo': 136.871, 'type': 'audio_features', 'id': '7N2tmiKcG2bUgZkuRKXor4', 'uri': 'spotify:track:7N2tmiKcG2bUgZkuRKXor4', 'track_href': 'https://api.spotify.com/v1/tracks/7N2tmiKcG2bUgZkuRKXor4', 'analysis_url': 'https://api.spotify.com/v1/audio-analysis/7N2tmiKcG2bUgZkuRKXor4', 'duration_ms': 169924, 'time_signature': 4}\n",
      "{'id_key': 55, 'danceability': 0.335, 'energy': 0.0287, 'key': 10, 'loudness': -27.4, 'mode': 1, 'speechiness': 0.041, 'acousticness': 0.991, 'instrumentalness': 0.888, 'liveness': 0.0874, 'valence': 0.0371, 'tempo': 67.446, 'type': 'audio_features', 'id': '6mfmrVSe5Cm7cvsNwW6uJk', 'uri': 'spotify:track:6mfmrVSe5Cm7cvsNwW6uJk', 'track_href': 'https://api.spotify.com/v1/tracks/6mfmrVSe5Cm7cvsNwW6uJk', 'analysis_url': 'https://api.spotify.com/v1/audio-analysis/6mfmrVSe5Cm7cvsNwW6uJk', 'duration_ms': 328000, 'time_signature': 4}\n",
      "{'id_key': 56, 'danceability': 0.438, 'energy': 0.0825, 'key': 9, 'loudness': -21.686, 'mode': 0, 'speechiness': 0.0695, 'acousticness': 0.983, 'instrumentalness': 0.0749, 'liveness': 0.0461, 'valence': 0.37, 'tempo': 106.275, 'type': 'audio_features', 'id': '1seJCRhM5PqQ5xGebh0iQ0', 'uri': 'spotify:track:1seJCRhM5PqQ5xGebh0iQ0', 'track_href': 'https://api.spotify.com/v1/tracks/1seJCRhM5PqQ5xGebh0iQ0', 'analysis_url': 'https://api.spotify.com/v1/audio-analysis/1seJCRhM5PqQ5xGebh0iQ0', 'duration_ms': 270000, 'time_signature': 5}\n",
      "{'id_key': 57, 'danceability': 0.447, 'energy': 0.449, 'key': 2, 'loudness': -10.634, 'mode': 1, 'speechiness': 0.0376, 'acousticness': 0.934, 'instrumentalness': 0.961, 'liveness': 0.0697, 'valence': 0.036, 'tempo': 92.468, 'type': 'audio_features', 'id': '1BncfTJAWxrsxyT9culBrj', 'uri': 'spotify:track:1BncfTJAWxrsxyT9culBrj', 'track_href': 'https://api.spotify.com/v1/tracks/1BncfTJAWxrsxyT9culBrj', 'analysis_url': 'https://api.spotify.com/v1/audio-analysis/1BncfTJAWxrsxyT9culBrj', 'duration_ms': 315427, 'time_signature': 4}\n",
      "{'id_key': 58, 'danceability': 0.267, 'energy': 0.0024, 'key': 1, 'loudness': -42.261, 'mode': 0, 'speechiness': 0.0531, 'acousticness': 0.995, 'instrumentalness': 0.897, 'liveness': 0.0942, 'valence': 0.267, 'tempo': 71.428, 'type': 'audio_features', 'id': '0kckvKwPBjQuVLgwGnICAv', 'uri': 'spotify:track:0kckvKwPBjQuVLgwGnICAv', 'track_href': 'https://api.spotify.com/v1/tracks/0kckvKwPBjQuVLgwGnICAv', 'analysis_url': 'https://api.spotify.com/v1/audio-analysis/0kckvKwPBjQuVLgwGnICAv', 'duration_ms': 397773, 'time_signature': 4}\n",
      "{'id_key': 59, 'danceability': 0.463, 'energy': 0.155, 'key': 5, 'loudness': -17.164, 'mode': 1, 'speechiness': 0.044, 'acousticness': 0.877, 'instrumentalness': 0.261, 'liveness': 0.105, 'valence': 0.222, 'tempo': 122.437, 'type': 'audio_features', 'id': '0U69ZvJfshKs1OVIyW1E7B', 'uri': 'spotify:track:0U69ZvJfshKs1OVIyW1E7B', 'track_href': 'https://api.spotify.com/v1/tracks/0U69ZvJfshKs1OVIyW1E7B', 'analysis_url': 'https://api.spotify.com/v1/audio-analysis/0U69ZvJfshKs1OVIyW1E7B', 'duration_ms': 301720, 'time_signature': 4}\n",
      "{'id_key': 60, 'danceability': 0.23, 'energy': 0.0487, 'key': 5, 'loudness': -27.675, 'mode': 1, 'speechiness': 0.0412, 'acousticness': 0.986, 'instrumentalness': 0.945, 'liveness': 0.0679, 'valence': 0.101, 'tempo': 134.839, 'type': 'audio_features', 'id': '0H2VhGUC3P3hvwz8rdGIpC', 'uri': 'spotify:track:0H2VhGUC3P3hvwz8rdGIpC', 'track_href': 'https://api.spotify.com/v1/tracks/0H2VhGUC3P3hvwz8rdGIpC', 'analysis_url': 'https://api.spotify.com/v1/audio-analysis/0H2VhGUC3P3hvwz8rdGIpC', 'duration_ms': 203656, 'time_signature': 5}\n",
      "{'id_key': 61, 'danceability': 0.28, 'energy': 0.104, 'key': 2, 'loudness': -19.802, 'mode': 1, 'speechiness': 0.0336, 'acousticness': 0.935, 'instrumentalness': 0.866, 'liveness': 0.362, 'valence': 0.176, 'tempo': 92.628, 'type': 'audio_features', 'id': '5qVqMPQdfFywNQIOP7Ncdz', 'uri': 'spotify:track:5qVqMPQdfFywNQIOP7Ncdz', 'track_href': 'https://api.spotify.com/v1/tracks/5qVqMPQdfFywNQIOP7Ncdz', 'analysis_url': 'https://api.spotify.com/v1/audio-analysis/5qVqMPQdfFywNQIOP7Ncdz', 'duration_ms': 310000, 'time_signature': 4}\n",
      "{'id_key': 62, 'danceability': 0.191, 'energy': 0.0317, 'key': 9, 'loudness': -35.616, 'mode': 0, 'speechiness': 0.0407, 'acousticness': 0.984, 'instrumentalness': 0.888, 'liveness': 0.0974, 'valence': 0.142, 'tempo': 135.974, 'type': 'audio_features', 'id': '1mlLOJXeUrwviYpUHYeZE8', 'uri': 'spotify:track:1mlLOJXeUrwviYpUHYeZE8', 'track_href': 'https://api.spotify.com/v1/tracks/1mlLOJXeUrwviYpUHYeZE8', 'analysis_url': 'https://api.spotify.com/v1/audio-analysis/1mlLOJXeUrwviYpUHYeZE8', 'duration_ms': 150733, 'time_signature': 3}\n",
      "{'id_key': 63, 'danceability': 0.379, 'energy': 0.075, 'key': 0, 'loudness': -20.328, 'mode': 1, 'speechiness': 0.0408, 'acousticness': 0.992, 'instrumentalness': 0.913, 'liveness': 0.106, 'valence': 0.0353, 'tempo': 68.232, 'type': 'audio_features', 'id': '0OrZXWjGgGUuoIoqnLvtJN', 'uri': 'spotify:track:0OrZXWjGgGUuoIoqnLvtJN', 'track_href': 'https://api.spotify.com/v1/tracks/0OrZXWjGgGUuoIoqnLvtJN', 'analysis_url': 'https://api.spotify.com/v1/audio-analysis/0OrZXWjGgGUuoIoqnLvtJN', 'duration_ms': 241187, 'time_signature': 3}\n",
      "{'id_key': 64, 'danceability': 0.166, 'energy': 0.0551, 'key': 9, 'loudness': -19.494, 'mode': 0, 'speechiness': 0.052, 'acousticness': 0.976, 'instrumentalness': 0.635, 'liveness': 0.119, 'valence': 0.143, 'tempo': 176.616, 'type': 'audio_features', 'id': '3QPPP2YozZ5xmMmpDB3c9n', 'uri': 'spotify:track:3QPPP2YozZ5xmMmpDB3c9n', 'track_href': 'https://api.spotify.com/v1/tracks/3QPPP2YozZ5xmMmpDB3c9n', 'analysis_url': 'https://api.spotify.com/v1/audio-analysis/3QPPP2YozZ5xmMmpDB3c9n', 'duration_ms': 206520, 'time_signature': 3}\n",
      "{'id_key': 65, 'danceability': 0.318, 'energy': 0.0633, 'key': 6, 'loudness': -23.869, 'mode': 1, 'speechiness': 0.0507, 'acousticness': 0.992, 'instrumentalness': 0.871, 'liveness': 0.0831, 'valence': 0.0384, 'tempo': 129.466, 'type': 'audio_features', 'id': '1GBUqmdRjScFoG0cs8jEGZ', 'uri': 'spotify:track:1GBUqmdRjScFoG0cs8jEGZ', 'track_href': 'https://api.spotify.com/v1/tracks/1GBUqmdRjScFoG0cs8jEGZ', 'analysis_url': 'https://api.spotify.com/v1/audio-analysis/1GBUqmdRjScFoG0cs8jEGZ', 'duration_ms': 199133, 'time_signature': 3}\n",
      "{'id_key': 66, 'danceability': 0.456, 'energy': 0.456, 'key': 11, 'loudness': -16.055, 'mode': 0, 'speechiness': 0.0535, 'acousticness': 0.973, 'instrumentalness': 0.353, 'liveness': 0.186, 'valence': 0.974, 'tempo': 144.489, 'type': 'audio_features', 'id': '4XJXYvjW0CB2MLMk8l7Vdi', 'uri': 'spotify:track:4XJXYvjW0CB2MLMk8l7Vdi', 'track_href': 'https://api.spotify.com/v1/tracks/4XJXYvjW0CB2MLMk8l7Vdi', 'analysis_url': 'https://api.spotify.com/v1/audio-analysis/4XJXYvjW0CB2MLMk8l7Vdi', 'duration_ms': 210680, 'time_signature': 3}\n",
      "{'id_key': 67, 'danceability': 0.307, 'energy': 0.0515, 'key': 4, 'loudness': -28.493, 'mode': 0, 'speechiness': 0.0324, 'acousticness': 0.708, 'instrumentalness': 0.631, 'liveness': 0.42, 'valence': 0.154, 'tempo': 128.056, 'type': 'audio_features', 'id': '5xm20JNLHy9vUVrnmZS6Uj', 'uri': 'spotify:track:5xm20JNLHy9vUVrnmZS6Uj', 'track_href': 'https://api.spotify.com/v1/tracks/5xm20JNLHy9vUVrnmZS6Uj', 'analysis_url': 'https://api.spotify.com/v1/audio-analysis/5xm20JNLHy9vUVrnmZS6Uj', 'duration_ms': 125533, 'time_signature': 4}\n",
      "{'id_key': 68, 'danceability': 0.235, 'energy': 0.365, 'key': 7, 'loudness': -13.864, 'mode': 1, 'speechiness': 0.0356, 'acousticness': 0.927, 'instrumentalness': 0.907, 'liveness': 0.17, 'valence': 0.126, 'tempo': 91.187, 'type': 'audio_features', 'id': '7KrdT8Zk0WGeyNtaCwQR08', 'uri': 'spotify:track:7KrdT8Zk0WGeyNtaCwQR08', 'track_href': 'https://api.spotify.com/v1/tracks/7KrdT8Zk0WGeyNtaCwQR08', 'analysis_url': 'https://api.spotify.com/v1/audio-analysis/7KrdT8Zk0WGeyNtaCwQR08', 'duration_ms': 183667, 'time_signature': 3}\n",
      "{'id_key': 69, 'danceability': 0.263, 'energy': 0.202, 'key': 1, 'loudness': -17.687, 'mode': 1, 'speechiness': 0.0408, 'acousticness': 0.984, 'instrumentalness': 0.905, 'liveness': 0.089, 'valence': 0.12, 'tempo': 71.462, 'type': 'audio_features', 'id': '6yjpji2Jlie9S2zBm2GZwE', 'uri': 'spotify:track:6yjpji2Jlie9S2zBm2GZwE', 'track_href': 'https://api.spotify.com/v1/tracks/6yjpji2Jlie9S2zBm2GZwE', 'analysis_url': 'https://api.spotify.com/v1/audio-analysis/6yjpji2Jlie9S2zBm2GZwE', 'duration_ms': 545747, 'time_signature': 4}\n",
      "{'id_key': 70, 'danceability': 0.697, 'energy': 0.809, 'key': 9, 'loudness': -8.197, 'mode': 1, 'speechiness': 0.0302, 'acousticness': 0.114, 'instrumentalness': 0.000521, 'liveness': 0.183, 'valence': 0.98, 'tempo': 125.941, 'type': 'audio_features', 'id': '5nNmj1cLH3r4aA4XDJ2bgY', 'uri': 'spotify:track:5nNmj1cLH3r4aA4XDJ2bgY', 'track_href': 'https://api.spotify.com/v1/tracks/5nNmj1cLH3r4aA4XDJ2bgY', 'analysis_url': 'https://api.spotify.com/v1/audio-analysis/5nNmj1cLH3r4aA4XDJ2bgY', 'duration_ms': 214827, 'time_signature': 4}\n",
      "{'id_key': 71, 'danceability': 0.814, 'energy': 0.672, 'key': 9, 'loudness': -12.068, 'mode': 1, 'speechiness': 0.0619, 'acousticness': 0.0435, 'instrumentalness': 0.0, 'liveness': 0.061, 'valence': 0.933, 'tempo': 109.394, 'type': 'audio_features', 'id': '5uuJruktM9fMdN9Va0DUMl', 'uri': 'spotify:track:5uuJruktM9fMdN9Va0DUMl', 'track_href': 'https://api.spotify.com/v1/tracks/5uuJruktM9fMdN9Va0DUMl', 'analysis_url': 'https://api.spotify.com/v1/audio-analysis/5uuJruktM9fMdN9Va0DUMl', 'duration_ms': 300000, 'time_signature': 4}\n",
      "{'id_key': 72, 'danceability': 0.712, 'energy': 0.552, 'key': 10, 'loudness': -15.485, 'mode': 0, 'speechiness': 0.0363, 'acousticness': 0.0752, 'instrumentalness': 0.0012, 'liveness': 0.15, 'valence': 0.961, 'tempo': 103.604, 'type': 'audio_features', 'id': '1nD9xhaOKlHmZssLhVWRo1', 'uri': 'spotify:track:1nD9xhaOKlHmZssLhVWRo1', 'track_href': 'https://api.spotify.com/v1/tracks/1nD9xhaOKlHmZssLhVWRo1', 'analysis_url': 'https://api.spotify.com/v1/audio-analysis/1nD9xhaOKlHmZssLhVWRo1', 'duration_ms': 281667, 'time_signature': 4}\n",
      "{'id_key': 73, 'danceability': 0.648, 'energy': 0.751, 'key': 8, 'loudness': -8.582, 'mode': 1, 'speechiness': 0.0806, 'acousticness': 0.0182, 'instrumentalness': 0.000401, 'liveness': 0.0418, 'valence': 0.863, 'tempo': 100.437, 'type': 'audio_features', 'id': '4dwrL3Z5U2RZ6MZiKE2PgL', 'uri': 'spotify:track:4dwrL3Z5U2RZ6MZiKE2PgL', 'track_href': 'https://api.spotify.com/v1/tracks/4dwrL3Z5U2RZ6MZiKE2PgL', 'analysis_url': 'https://api.spotify.com/v1/audio-analysis/4dwrL3Z5U2RZ6MZiKE2PgL', 'duration_ms': 244827, 'time_signature': 4}\n",
      "{'id_key': 74, 'danceability': 0.889, 'energy': 0.646, 'key': 7, 'loudness': -6.366, 'mode': 1, 'speechiness': 0.0668, 'acousticness': 0.195, 'instrumentalness': 3.19e-05, 'liveness': 0.0502, 'valence': 0.966, 'tempo': 110.842, 'type': 'audio_features', 'id': '0mLAgHQP1BOkoHhDu622BQ', 'uri': 'spotify:track:0mLAgHQP1BOkoHhDu622BQ', 'track_href': 'https://api.spotify.com/v1/tracks/0mLAgHQP1BOkoHhDu622BQ', 'analysis_url': 'https://api.spotify.com/v1/audio-analysis/0mLAgHQP1BOkoHhDu622BQ', 'duration_ms': 213427, 'time_signature': 4}\n",
      "{'id_key': 75, 'danceability': 0.68, 'energy': 0.877, 'key': 5, 'loudness': -10.241, 'mode': 0, 'speechiness': 0.0353, 'acousticness': 0.191, 'instrumentalness': 0.000656, 'liveness': 0.349, 'valence': 0.922, 'tempo': 108.674, 'type': 'audio_features', 'id': '1qiQduM84A0VeH8Y2uAbqi', 'uri': 'spotify:track:1qiQduM84A0VeH8Y2uAbqi', 'track_href': 'https://api.spotify.com/v1/tracks/1qiQduM84A0VeH8Y2uAbqi', 'analysis_url': 'https://api.spotify.com/v1/audio-analysis/1qiQduM84A0VeH8Y2uAbqi', 'duration_ms': 185107, 'time_signature': 4}\n",
      "{'id_key': 76, 'danceability': 0.72, 'energy': 0.828, 'key': 5, 'loudness': -9.211, 'mode': 1, 'speechiness': 0.0462, 'acousticness': 0.185, 'instrumentalness': 0.429, 'liveness': 0.0839, 'valence': 0.768, 'tempo': 110.071, 'type': 'audio_features', 'id': '3SnGymj6ijE2iuUfWxLo1q', 'uri': 'spotify:track:3SnGymj6ijE2iuUfWxLo1q', 'track_href': 'https://api.spotify.com/v1/tracks/3SnGymj6ijE2iuUfWxLo1q', 'analysis_url': 'https://api.spotify.com/v1/audio-analysis/3SnGymj6ijE2iuUfWxLo1q', 'duration_ms': 323347, 'time_signature': 4}\n",
      "{'id_key': 77, 'danceability': 0.608, 'energy': 0.471, 'key': 0, 'loudness': -8.664, 'mode': 1, 'speechiness': 0.0945, 'acousticness': 0.446, 'instrumentalness': 3.63e-06, 'liveness': 0.369, 'valence': 0.682, 'tempo': 70.702, 'type': 'audio_features', 'id': '0rTkE0FmT4zT2xL6GXwosU', 'uri': 'spotify:track:0rTkE0FmT4zT2xL6GXwosU', 'track_href': 'https://api.spotify.com/v1/tracks/0rTkE0FmT4zT2xL6GXwosU', 'analysis_url': 'https://api.spotify.com/v1/audio-analysis/0rTkE0FmT4zT2xL6GXwosU', 'duration_ms': 165800, 'time_signature': 3}\n",
      "{'id_key': 78, 'danceability': 0.843, 'energy': 0.656, 'key': 1, 'loudness': -11.184, 'mode': 1, 'speechiness': 0.0595, 'acousticness': 0.0466, 'instrumentalness': 0.0187, 'liveness': 0.169, 'valence': 0.931, 'tempo': 121.112, 'type': 'audio_features', 'id': '6CSLNGruNhqpb5zhfs5n3i', 'uri': 'spotify:track:6CSLNGruNhqpb5zhfs5n3i', 'track_href': 'https://api.spotify.com/v1/tracks/6CSLNGruNhqpb5zhfs5n3i', 'analysis_url': 'https://api.spotify.com/v1/audio-analysis/6CSLNGruNhqpb5zhfs5n3i', 'duration_ms': 215653, 'time_signature': 4}\n",
      "{'id_key': 79, 'danceability': 0.62, 'energy': 0.573, 'key': 0, 'loudness': -11.893, 'mode': 1, 'speechiness': 0.0423, 'acousticness': 0.271, 'instrumentalness': 0.0, 'liveness': 0.0607, 'valence': 0.897, 'tempo': 81.548, 'type': 'audio_features', 'id': '0ikz6tENMONtK6qGkOrU3c', 'uri': 'spotify:track:0ikz6tENMONtK6qGkOrU3c', 'track_href': 'https://api.spotify.com/v1/tracks/0ikz6tENMONtK6qGkOrU3c', 'analysis_url': 'https://api.spotify.com/v1/audio-analysis/0ikz6tENMONtK6qGkOrU3c', 'duration_ms': 231333, 'time_signature': 4}\n",
      "{'id_key': 80, 'danceability': 0.598, 'energy': 0.673, 'key': 2, 'loudness': -10.431, 'mode': 1, 'speechiness': 0.0693, 'acousticness': 0.0422, 'instrumentalness': 6.84e-05, 'liveness': 0.289, 'valence': 0.59, 'tempo': 102.035, 'type': 'audio_features', 'id': '40NRm1ZLvZpUSCUXAGGZ8J', 'uri': 'spotify:track:40NRm1ZLvZpUSCUXAGGZ8J', 'track_href': 'https://api.spotify.com/v1/tracks/40NRm1ZLvZpUSCUXAGGZ8J', 'analysis_url': 'https://api.spotify.com/v1/audio-analysis/40NRm1ZLvZpUSCUXAGGZ8J', 'duration_ms': 197693, 'time_signature': 4}\n",
      "{'id_key': 81, 'danceability': 0.651, 'energy': 0.639, 'key': 3, 'loudness': -7.836, 'mode': 0, 'speechiness': 0.0583, 'acousticness': 0.019, 'instrumentalness': 0.0, 'liveness': 0.0522, 'valence': 0.758, 'tempo': 157.738, 'type': 'audio_features', 'id': '45oFq8ZKV9KDhzYb2Rh1y4', 'uri': 'spotify:track:45oFq8ZKV9KDhzYb2Rh1y4', 'track_href': 'https://api.spotify.com/v1/tracks/45oFq8ZKV9KDhzYb2Rh1y4', 'analysis_url': 'https://api.spotify.com/v1/audio-analysis/45oFq8ZKV9KDhzYb2Rh1y4', 'duration_ms': 247440, 'time_signature': 4}\n",
      "{'id_key': 82, 'danceability': 0.461, 'energy': 0.918, 'key': 4, 'loudness': -8.507, 'mode': 1, 'speechiness': 0.0959, 'acousticness': 0.405, 'instrumentalness': 0.00033, 'liveness': 0.126, 'valence': 0.802, 'tempo': 172.435, 'type': 'audio_features', 'id': '4tyl9OMKMG8F2L0RUYQMH3', 'uri': 'spotify:track:4tyl9OMKMG8F2L0RUYQMH3', 'track_href': 'https://api.spotify.com/v1/tracks/4tyl9OMKMG8F2L0RUYQMH3', 'analysis_url': 'https://api.spotify.com/v1/audio-analysis/4tyl9OMKMG8F2L0RUYQMH3', 'duration_ms': 249960, 'time_signature': 4}\n",
      "{'id_key': 83, 'danceability': 0.684, 'energy': 0.64, 'key': 5, 'loudness': -9.906, 'mode': 0, 'speechiness': 0.0309, 'acousticness': 0.221, 'instrumentalness': 0.0102, 'liveness': 0.179, 'valence': 0.777, 'tempo': 106.023, 'type': 'audio_features', 'id': '7e176FKv7cq6SG9EXYMLoQ', 'uri': 'spotify:track:7e176FKv7cq6SG9EXYMLoQ', 'track_href': 'https://api.spotify.com/v1/tracks/7e176FKv7cq6SG9EXYMLoQ', 'analysis_url': 'https://api.spotify.com/v1/audio-analysis/7e176FKv7cq6SG9EXYMLoQ', 'duration_ms': 234267, 'time_signature': 4}\n",
      "{'id_key': 84, 'danceability': 0.862, 'energy': 0.624, 'key': 3, 'loudness': -11.63, 'mode': 1, 'speechiness': 0.0565, 'acousticness': 0.0192, 'instrumentalness': 0.000153, 'liveness': 0.0465, 'valence': 0.882, 'tempo': 124.896, 'type': 'audio_features', 'id': '3yDhZq8f17SmumVmEyCaRN', 'uri': 'spotify:track:3yDhZq8f17SmumVmEyCaRN', 'track_href': 'https://api.spotify.com/v1/tracks/3yDhZq8f17SmumVmEyCaRN', 'analysis_url': 'https://api.spotify.com/v1/audio-analysis/3yDhZq8f17SmumVmEyCaRN', 'duration_ms': 254240, 'time_signature': 4}\n",
      "{'id_key': 85, 'danceability': 0.677, 'energy': 0.616, 'key': 10, 'loudness': -13.826, 'mode': 1, 'speechiness': 0.032, 'acousticness': 0.458, 'instrumentalness': 0.0132, 'liveness': 0.349, 'valence': 0.851, 'tempo': 114.223, 'type': 'audio_features', 'id': '2aEuA8PSqLa17Y4hKPj5rr', 'uri': 'spotify:track:2aEuA8PSqLa17Y4hKPj5rr', 'track_href': 'https://api.spotify.com/v1/tracks/2aEuA8PSqLa17Y4hKPj5rr', 'analysis_url': 'https://api.spotify.com/v1/audio-analysis/2aEuA8PSqLa17Y4hKPj5rr', 'duration_ms': 226333, 'time_signature': 4}\n",
      "{'id_key': 86, 'danceability': 0.783, 'energy': 0.836, 'key': 0, 'loudness': -9.223, 'mode': 0, 'speechiness': 0.0486, 'acousticness': 0.396, 'instrumentalness': 0.0236, 'liveness': 0.135, 'valence': 0.831, 'tempo': 108.966, 'type': 'audio_features', 'id': '5zWZ9iNevP0397xB3jWV2z', 'uri': 'spotify:track:5zWZ9iNevP0397xB3jWV2z', 'track_href': 'https://api.spotify.com/v1/tracks/5zWZ9iNevP0397xB3jWV2z', 'analysis_url': 'https://api.spotify.com/v1/audio-analysis/5zWZ9iNevP0397xB3jWV2z', 'duration_ms': 222667, 'time_signature': 4}\n",
      "{'id_key': 87, 'danceability': 0.797, 'energy': 0.468, 'key': 2, 'loudness': -9.28, 'mode': 0, 'speechiness': 0.0278, 'acousticness': 0.6, 'instrumentalness': 2.98e-05, 'liveness': 0.0623, 'valence': 0.628, 'tempo': 108.628, 'type': 'audio_features', 'id': '3DZnc4lcqJF8FJmRbjrmA0', 'uri': 'spotify:track:3DZnc4lcqJF8FJmRbjrmA0', 'track_href': 'https://api.spotify.com/v1/tracks/3DZnc4lcqJF8FJmRbjrmA0', 'analysis_url': 'https://api.spotify.com/v1/audio-analysis/3DZnc4lcqJF8FJmRbjrmA0', 'duration_ms': 248440, 'time_signature': 4}\n",
      "{'id_key': 88, 'danceability': 0.78, 'energy': 0.551, 'key': 5, 'loudness': -13.038, 'mode': 0, 'speechiness': 0.0625, 'acousticness': 0.0613, 'instrumentalness': 0.104, 'liveness': 0.0331, 'valence': 0.969, 'tempo': 126.009, 'type': 'audio_features', 'id': '1X4gWy941yRMvafHs4n2sQ', 'uri': 'spotify:track:1X4gWy941yRMvafHs4n2sQ', 'track_href': 'https://api.spotify.com/v1/tracks/1X4gWy941yRMvafHs4n2sQ', 'analysis_url': 'https://api.spotify.com/v1/audio-analysis/1X4gWy941yRMvafHs4n2sQ', 'duration_ms': 491933, 'time_signature': 4}\n",
      "{'id_key': 89, 'danceability': 0.832, 'energy': 0.553, 'key': 7, 'loudness': -13.705, 'mode': 1, 'speechiness': 0.0487, 'acousticness': 0.0422, 'instrumentalness': 0.00356, 'liveness': 0.249, 'valence': 0.89, 'tempo': 119.825, 'type': 'audio_features', 'id': '6Lphpr9Z6H282Sguw0dUWa', 'uri': 'spotify:track:6Lphpr9Z6H282Sguw0dUWa', 'track_href': 'https://api.spotify.com/v1/tracks/6Lphpr9Z6H282Sguw0dUWa', 'analysis_url': 'https://api.spotify.com/v1/audio-analysis/6Lphpr9Z6H282Sguw0dUWa', 'duration_ms': 215693, 'time_signature': 4}\n",
      "{'id_key': 90, 'danceability': 0.798, 'energy': 0.746, 'key': 10, 'loudness': -8.639, 'mode': 1, 'speechiness': 0.0313, 'acousticness': 0.0304, 'instrumentalness': 0.361, 'liveness': 0.0703, 'valence': 0.965, 'tempo': 128.553, 'type': 'audio_features', 'id': '1QqsAlhs7pxcXs9BMB1Nv5', 'uri': 'spotify:track:1QqsAlhs7pxcXs9BMB1Nv5', 'track_href': 'https://api.spotify.com/v1/tracks/1QqsAlhs7pxcXs9BMB1Nv5', 'analysis_url': 'https://api.spotify.com/v1/audio-analysis/1QqsAlhs7pxcXs9BMB1Nv5', 'duration_ms': 655213, 'time_signature': 4}\n",
      "{'id_key': 91, 'danceability': 0.651, 'energy': 0.811, 'key': 10, 'loudness': -13.87, 'mode': 1, 'speechiness': 0.0318, 'acousticness': 0.0648, 'instrumentalness': 0.0293, 'liveness': 0.1, 'valence': 0.962, 'tempo': 112.126, 'type': 'audio_features', 'id': '6VuIKS2Z27jCutIapgCUZF', 'uri': 'spotify:track:6VuIKS2Z27jCutIapgCUZF', 'track_href': 'https://api.spotify.com/v1/tracks/6VuIKS2Z27jCutIapgCUZF', 'analysis_url': 'https://api.spotify.com/v1/audio-analysis/6VuIKS2Z27jCutIapgCUZF', 'duration_ms': 186573, 'time_signature': 4}\n",
      "{'id_key': 92, 'danceability': 0.705, 'energy': 0.847, 'key': 6, 'loudness': -2.588, 'mode': 1, 'speechiness': 0.0361, 'acousticness': 0.414, 'instrumentalness': 3.21e-06, 'liveness': 0.406, 'valence': 0.743, 'tempo': 120.527, 'type': 'audio_features', 'id': '7sMGwiS4vOMcz86ZY3vKYM', 'uri': 'spotify:track:7sMGwiS4vOMcz86ZY3vKYM', 'track_href': 'https://api.spotify.com/v1/tracks/7sMGwiS4vOMcz86ZY3vKYM', 'analysis_url': 'https://api.spotify.com/v1/audio-analysis/7sMGwiS4vOMcz86ZY3vKYM', 'duration_ms': 228120, 'time_signature': 4}\n",
      "{'id_key': 93, 'danceability': 0.819, 'energy': 0.811, 'key': 6, 'loudness': -7.76, 'mode': 0, 'speechiness': 0.0349, 'acousticness': 0.203, 'instrumentalness': 0.00558, 'liveness': 0.139, 'valence': 0.766, 'tempo': 106.684, 'type': 'audio_features', 'id': '4JsQkSOE4taeyhH3pv1een', 'uri': 'spotify:track:4JsQkSOE4taeyhH3pv1een', 'track_href': 'https://api.spotify.com/v1/tracks/4JsQkSOE4taeyhH3pv1een', 'analysis_url': 'https://api.spotify.com/v1/audio-analysis/4JsQkSOE4taeyhH3pv1een', 'duration_ms': 246760, 'time_signature': 4}\n",
      "{'id_key': 94, 'danceability': 0.656, 'energy': 0.9, 'key': 5, 'loudness': -9.583, 'mode': 0, 'speechiness': 0.0354, 'acousticness': 0.0791, 'instrumentalness': 0.00142, 'liveness': 0.354, 'valence': 0.947, 'tempo': 108.698, 'type': 'audio_features', 'id': '3P2zU7fEjnZRunH124QnJL', 'uri': 'spotify:track:3P2zU7fEjnZRunH124QnJL', 'track_href': 'https://api.spotify.com/v1/tracks/3P2zU7fEjnZRunH124QnJL', 'analysis_url': 'https://api.spotify.com/v1/audio-analysis/3P2zU7fEjnZRunH124QnJL', 'duration_ms': 183667, 'time_signature': 4}\n"
     ]
    }
   ],
   "source": [
    "#Retrieving & printing the full database.\n",
    "response_new = requests.get(url = Base + \"song_db/\")\n",
    "try:\n",
    "    print(response_new.json()['message'])\n",
    "except:\n",
    "    for i in response_new.json():           \n",
    "        print(i)\n",
    "#print(response_new.json()['message'])"
   ]
  },
  {
   "cell_type": "markdown",
   "metadata": {},
   "source": [
    "#### Getting all the id and the count of the id from the database"
   ]
  },
  {
   "cell_type": "code",
   "execution_count": 45,
   "metadata": {},
   "outputs": [
    {
     "data": {
      "text/plain": [
       "95"
      ]
     },
     "execution_count": 45,
     "metadata": {},
     "output_type": "execute_result"
    }
   ],
   "source": [
    "#Getting all the id of the song in database.\n",
    "id_key = [] #Init id list\n",
    "response_new = requests.get(url = Base + \"song_db/\")\n",
    "try:\n",
    "    print(response_new.json()['message'])\n",
    "except:\n",
    "    for i in response_new.json():\n",
    "        id_key.append(i['id_key'])\n",
    "\n",
    "#printing the number of rows of songs in database.\n",
    "len(id_key)"
   ]
  },
  {
   "cell_type": "code",
   "execution_count": 46,
   "metadata": {},
   "outputs": [
    {
     "data": {
      "text/plain": [
       "[0,\n",
       " 1,\n",
       " 2,\n",
       " 3,\n",
       " 4,\n",
       " 5,\n",
       " 6,\n",
       " 7,\n",
       " 8,\n",
       " 9,\n",
       " 10,\n",
       " 11,\n",
       " 12,\n",
       " 13,\n",
       " 14,\n",
       " 15,\n",
       " 16,\n",
       " 17,\n",
       " 18,\n",
       " 19,\n",
       " 20,\n",
       " 21,\n",
       " 22,\n",
       " 23,\n",
       " 24,\n",
       " 25,\n",
       " 26,\n",
       " 27,\n",
       " 28,\n",
       " 29,\n",
       " 30,\n",
       " 31,\n",
       " 32,\n",
       " 33,\n",
       " 34,\n",
       " 35,\n",
       " 36,\n",
       " 37,\n",
       " 38,\n",
       " 39,\n",
       " 40,\n",
       " 41,\n",
       " 42,\n",
       " 43,\n",
       " 44,\n",
       " 45,\n",
       " 46,\n",
       " 47,\n",
       " 48,\n",
       " 49,\n",
       " 50,\n",
       " 51,\n",
       " 52,\n",
       " 53,\n",
       " 54,\n",
       " 55,\n",
       " 56,\n",
       " 57,\n",
       " 58,\n",
       " 59,\n",
       " 60,\n",
       " 61,\n",
       " 62,\n",
       " 63,\n",
       " 64,\n",
       " 65,\n",
       " 66,\n",
       " 67,\n",
       " 68,\n",
       " 69,\n",
       " 70,\n",
       " 71,\n",
       " 72,\n",
       " 73,\n",
       " 74,\n",
       " 75,\n",
       " 76,\n",
       " 77,\n",
       " 78,\n",
       " 79,\n",
       " 80,\n",
       " 81,\n",
       " 82,\n",
       " 83,\n",
       " 84,\n",
       " 85,\n",
       " 86,\n",
       " 87,\n",
       " 88,\n",
       " 89,\n",
       " 90,\n",
       " 91,\n",
       " 92,\n",
       " 93,\n",
       " 94]"
      ]
     },
     "execution_count": 46,
     "metadata": {},
     "output_type": "execute_result"
    }
   ],
   "source": [
    "#Printing the list with the ids\n",
    "id_key"
   ]
  },
  {
   "cell_type": "code",
   "execution_count": null,
   "metadata": {},
   "outputs": [],
   "source": []
  }
 ],
 "metadata": {
  "kernelspec": {
   "display_name": "Python 3.10.6 ('flask-api')",
   "language": "python",
   "name": "python3"
  },
  "language_info": {
   "codemirror_mode": {
    "name": "ipython",
    "version": 3
   },
   "file_extension": ".py",
   "mimetype": "text/x-python",
   "name": "python",
   "nbconvert_exporter": "python",
   "pygments_lexer": "ipython3",
   "version": "3.10.6"
  },
  "orig_nbformat": 4,
  "vscode": {
   "interpreter": {
    "hash": "e1f4d2bea689fecc719ad18444f5007b1320b819b1d66c7e59c11a5ed460b772"
   }
  }
 },
 "nbformat": 4,
 "nbformat_minor": 2
}
